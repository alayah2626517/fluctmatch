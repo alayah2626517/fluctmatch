{
 "cells": [
  {
   "cell_type": "code",
   "execution_count": 1,
   "metadata": {},
   "outputs": [],
   "source": [
    "from os import path\n",
    "import numpy as np\n",
    "import enm, rtf, ic_str"
   ]
  },
  {
   "cell_type": "code",
   "execution_count": 5,
   "metadata": {},
   "outputs": [
    {
     "name": "stdout",
     "output_type": "stream",
     "text": [
      "/home/yizaochen/fluct_diffcutoff/pnas_amber_16mer exists\n",
      "/home/yizaochen/fluct_diffcutoff/pnas_amber_16mer/bdna+bdna exists\n",
      "/home/yizaochen/fluct_diffcutoff/pnas_amber_16mer/bdna+bdna/input exists\n",
      "/home/yizaochen/fluct_diffcutoff/pnas_amber_16mer/bdna+bdna/charmm_inp exists\n",
      "/home/yizaochen/fluct_diffcutoff/pnas_amber_16mer/bdna+bdna/charmm_dat exists\n",
      "/home/yizaochen/fluct_diffcutoff/pnas_amber_16mer/bdna+bdna/mode_traj exists\n",
      "/home/yizaochen/fluct_diffcutoff/pnas_amber_16mer/bdna+bdna/ic exists\n",
      "/home/yizaochen/fluct_diffcutoff/pnas_amber_16mer/bdna+bdna/ic_fluct_mat exists\n",
      "/home/yizaochen/fluct_diffcutoff/pnas_amber_16mer/bdna+bdna/rtf_ic_str exists\n",
      "/home/yizaochen/fluct_diffcutoff/pnas_amber_16mer/bdna+bdna/data exists\n",
      "/home/yizaochen/fluct_diffcutoff/pnas_amber_16mer/bdna+bdna/data/backup exists\n"
     ]
    }
   ],
   "source": [
    "host = 'pnas_amber_16mer'  # 'pnas_amber_clean' or 'pnas_amber_20ns'\n",
    "type_na = 'bdna+bdna'\n",
    "agent = enm.ENMAgent(host, type_na)"
   ]
  },
  {
   "cell_type": "code",
   "execution_count": 6,
   "metadata": {},
   "outputs": [],
   "source": [
    "cutoff_list = np.arange(6.0, 10.1, 0.5)\n",
    "\n",
    "for cutoff in cutoff_list:\n",
    "    # Build PairList\n",
    "    pairs = agent.get_all_pairs(cutoff=cutoff)\n",
    "    # Filter PairList # More Rigorous, won't have effect\n",
    "    #new_pairs = agent.filter_pairs(pairs, cutoff)\n",
    "    \n",
    "    # Make RTF\n",
    "    rtf_agent = rtf.RTF(host, type_na, agent.crd, pairs, agent.mass_map)\n",
    "    rtf_out = path.join(agent.rtficstr_folder, 'na_enm_{0:.2f}.rtf'.format(cutoff))\n",
    "    rtf_agent.write_rtf(rtf_out)\n",
    "    \n",
    "    # Make IC-Stream\n",
    "    icstr_agent = ic_str.ICSTR(host, type_na, agent.crd, pairs, agent.atomid_map)\n",
    "    icstr_out = path.join(agent.rtficstr_folder, 'na_enm_{0:.2f}.str'.format(cutoff))\n",
    "    icstr_agent.write_ic_str(icstr_out)"
   ]
  },
  {
   "cell_type": "code",
   "execution_count": 3,
   "metadata": {},
   "outputs": [
    {
     "data": {
      "text/plain": [
       "array([ 6. ,  6.5,  7. ,  7.5,  8. ,  8.5,  9. ,  9.5, 10. ])"
      ]
     },
     "execution_count": 3,
     "metadata": {},
     "output_type": "execute_result"
    }
   ],
   "source": [
    "cutoff_list = np.arange(6.0, 10.1, 0.5)\n",
    "cutoff_list"
   ]
  },
  {
   "cell_type": "markdown",
   "metadata": {},
   "source": [
    "### Reload Function"
   ]
  },
  {
   "cell_type": "code",
   "execution_count": 27,
   "metadata": {},
   "outputs": [
    {
     "data": {
      "text/plain": [
       "<module 'enm' from '/home/yizaochen/fluct_diffcutoff/enm.py'>"
      ]
     },
     "execution_count": 27,
     "metadata": {},
     "output_type": "execute_result"
    }
   ],
   "source": [
    "from imp import reload\n",
    "reload(enm)"
   ]
  },
  {
   "cell_type": "code",
   "execution_count": null,
   "metadata": {},
   "outputs": [],
   "source": []
  }
 ],
 "metadata": {
  "kernelspec": {
   "display_name": "Python 3",
   "language": "python",
   "name": "python3"
  },
  "language_info": {
   "codemirror_mode": {
    "name": "ipython",
    "version": 3
   },
   "file_extension": ".py",
   "mimetype": "text/x-python",
   "name": "python",
   "nbconvert_exporter": "python",
   "pygments_lexer": "ipython3",
   "version": "3.6.7"
  }
 },
 "nbformat": 4,
 "nbformat_minor": 4
}
