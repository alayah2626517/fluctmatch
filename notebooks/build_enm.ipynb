{
 "cells": [
  {
   "cell_type": "code",
   "execution_count": 1,
   "metadata": {},
   "outputs": [],
   "source": [
    "from os import path\n",
    "from glob import glob\n",
    "from shutil import copy\n",
    "from fluctmatch import enm, rtf, ic_str"
   ]
  },
  {
   "cell_type": "markdown",
   "metadata": {},
   "source": [
    "### Part 0: Set root folder and cutoff"
   ]
  },
  {
   "cell_type": "code",
   "execution_count": 2,
   "metadata": {},
   "outputs": [],
   "source": [
    "enm_rootfolder = '/home/yizaochen/codes/dna_rna/fluctmatch_sequence'\n",
    "allsystemfolder = '/home/yizaochen/codes/dna_rna/all_systems'\n",
    "cutoff = 4.7"
   ]
  },
  {
   "cell_type": "code",
   "execution_count": 28,
   "metadata": {},
   "outputs": [
    {
     "name": "stdout",
     "output_type": "stream",
     "text": [
      "/home/yizaochen/codes/dna_rna/fluctmatch_sequence/tgtg_21mer exists\n",
      "/home/yizaochen/codes/dna_rna/fluctmatch_sequence/tgtg_21mer/bdna+bdna exists\n",
      "/home/yizaochen/codes/dna_rna/fluctmatch_sequence/tgtg_21mer/bdna+bdna/input exists\n",
      "/home/yizaochen/codes/dna_rna/fluctmatch_sequence/tgtg_21mer/bdna+bdna/charmm_inp exists\n",
      "/home/yizaochen/codes/dna_rna/fluctmatch_sequence/tgtg_21mer/bdna+bdna/charmm_dat exists\n",
      "/home/yizaochen/codes/dna_rna/fluctmatch_sequence/tgtg_21mer/bdna+bdna/mode_traj exists\n",
      "/home/yizaochen/codes/dna_rna/fluctmatch_sequence/tgtg_21mer/bdna+bdna/ic exists\n",
      "/home/yizaochen/codes/dna_rna/fluctmatch_sequence/tgtg_21mer/bdna+bdna/ic_fluct_mat exists\n",
      "/home/yizaochen/codes/dna_rna/fluctmatch_sequence/tgtg_21mer/bdna+bdna/rtf_ic_str exists\n",
      "/home/yizaochen/codes/dna_rna/fluctmatch_sequence/tgtg_21mer/bdna+bdna/data exists\n",
      "/home/yizaochen/codes/dna_rna/fluctmatch_sequence/tgtg_21mer/bdna+bdna/data/backup exists\n",
      "mkdir /home/yizaochen/codes/dna_rna/fluctmatch_sequence/tgtg_21mer/bdna+bdna/scratch\n"
     ]
    }
   ],
   "source": [
    "host = 'tgtg_21mer'\n",
    "type_na = 'bdna+bdna'\n",
    "agent = enm.ENMAgent(enm_rootfolder, host, type_na)"
   ]
  },
  {
   "cell_type": "markdown",
   "metadata": {},
   "source": [
    "### Part 1: Check xxx.nohydrogen.avg.crd"
   ]
  },
  {
   "cell_type": "code",
   "execution_count": 14,
   "metadata": {},
   "outputs": [
    {
     "name": "stdout",
     "output_type": "stream",
     "text": [
      "/home/yizaochen/codes/dna_rna/fluctmatch_sequence/tgtg_21mer/bdna+bdna/input/bdna+bdna.nohydrogen.avg.crd does not exist.\n",
      "cp /home/yizaochen/codes/dna_rna/all_systems/tgtg_21mer/bdna+bdna/input/heavyatoms/bdna+bdna.nohydrogen.avg.crd /home/yizaochen/codes/dna_rna/fluctmatch_sequence/tgtg_21mer/bdna+bdna/input/bdna+bdna.nohydrogen.avg.crd\n"
     ]
    }
   ],
   "source": [
    "avg_exist_boolean = agent.check_avg_crd()\n",
    "if not avg_exist_boolean:\n",
    "    agent.copy_avg_crd(allsystemfolder)"
   ]
  },
  {
   "cell_type": "markdown",
   "metadata": {},
   "source": [
    "### Part 2: Check mode.0.dcd (10000 frames heavy atoms model)"
   ]
  },
  {
   "cell_type": "code",
   "execution_count": 15,
   "metadata": {},
   "outputs": [
    {
     "name": "stdout",
     "output_type": "stream",
     "text": [
      "/home/yizaochen/codes/dna_rna/fluctmatch_sequence/tgtg_21mer/bdna+bdna/mode_traj/mode.0.dcd does not exist.\n",
      "cp /home/yizaochen/codes/dna_rna/all_systems/tgtg_21mer/bdna+bdna/input/heavyatoms/bdna+bdna.nohydrogen.fitavg.dcd /home/yizaochen/codes/dna_rna/fluctmatch_sequence/tgtg_21mer/bdna+bdna/mode_traj/mode.0.dcd\n"
     ]
    }
   ],
   "source": [
    "mode0dcd_exist_boolean = agent.check_mode0dcd()\n",
    "if not mode0dcd_exist_boolean:\n",
    "    agent.copy_mode0dcd(allsystemfolder)"
   ]
  },
  {
   "cell_type": "markdown",
   "metadata": {},
   "source": [
    "### Part 3: Set required dictionary"
   ]
  },
  {
   "cell_type": "code",
   "execution_count": 29,
   "metadata": {},
   "outputs": [],
   "source": [
    "agent.set_mda_universe()\n",
    "agent.set_required_d()"
   ]
  },
  {
   "cell_type": "markdown",
   "metadata": {},
   "source": [
    "### Part 4: Get All Pairs"
   ]
  },
  {
   "cell_type": "code",
   "execution_count": 30,
   "metadata": {},
   "outputs": [
    {
     "name": "stdout",
     "output_type": "stream",
     "text": [
      "Number of Beads: 855\n",
      "Number of Pairs: 9555\n"
     ]
    }
   ],
   "source": [
    "pairs = agent.get_all_pairs(cutoff)\n",
    "n_atoms = len(agent.atomid_map)\n",
    "n_pairs = len(pairs)\n",
    "print(f'Number of Beads: {n_atoms}')\n",
    "print(f'Number of Pairs: {n_pairs}')"
   ]
  },
  {
   "cell_type": "markdown",
   "metadata": {},
   "source": [
    "### Part 5: Make RTF"
   ]
  },
  {
   "cell_type": "code",
   "execution_count": 31,
   "metadata": {},
   "outputs": [
    {
     "name": "stdout",
     "output_type": "stream",
     "text": [
      "Generate /home/yizaochen/codes/dna_rna/fluctmatch_sequence/tgtg_21mer/bdna+bdna/rtf_ic_str/na_enm_4.70.rtf\n"
     ]
    }
   ],
   "source": [
    "rtf_agent = rtf.RTF(host, type_na, agent.crd, pairs, agent.mass_map)\n",
    "f_out = path.join(enm_rootfolder, host, type_na, 'rtf_ic_str', f'na_enm_{cutoff:.2f}.rtf')\n",
    "rtf_agent.write_rtf(f_out)\n",
    "print(f'Generate {f_out}')"
   ]
  },
  {
   "cell_type": "markdown",
   "metadata": {},
   "source": [
    "### Part 6: Make IC-Stream "
   ]
  },
  {
   "cell_type": "code",
   "execution_count": 32,
   "metadata": {},
   "outputs": [
    {
     "name": "stdout",
     "output_type": "stream",
     "text": [
      "Generate /home/yizaochen/codes/dna_rna/fluctmatch_sequence/tgtg_21mer/bdna+bdna/rtf_ic_str/na_enm_4.70.str\n"
     ]
    }
   ],
   "source": [
    "f_out = path.join(enm_rootfolder, host, type_na, 'rtf_ic_str', f'na_enm_{cutoff:.2f}.str')\n",
    "icstr_agent = ic_str.ICSTR(host, type_na, agent.crd, pairs, agent.atomid_map)\n",
    "icstr_agent.write_ic_str(f_out)\n",
    "print(f'Generate {f_out}')"
   ]
  },
  {
   "cell_type": "markdown",
   "metadata": {},
   "source": [
    "### Part 7: Make CRD"
   ]
  },
  {
   "cell_type": "code",
   "execution_count": 20,
   "metadata": {},
   "outputs": [
    {
     "name": "stdout",
     "output_type": "stream",
     "text": [
      "charmm< /home/yizaochen/codes/dna_rna/fluctmatch_sequence/tgtg_21mer/bdna+bdna/charmm_inp/make_enm_crd.inp > /home/yizaochen/codes/dna_rna/fluctmatch_sequence/tgtg_21mer/bdna+bdna/charmm_dat/make_enm_crd.dat\n"
     ]
    }
   ],
   "source": [
    "agent.write_make_enm_crd_input(firstter='amber_5ter', lastter='amber_3ter')\n",
    "agent.make_enm_crd()"
   ]
  },
  {
   "cell_type": "code",
   "execution_count": 21,
   "metadata": {},
   "outputs": [
    {
     "name": "stdout",
     "output_type": "stream",
     "text": [
      "vmd -cor /home/yizaochen/codes/dna_rna/fluctmatch_sequence/tgtg_21mer/bdna+bdna/input/bdna+bdna.nohydrogen.avg.crd\n",
      "mol new /home/yizaochen/codes/dna_rna/fluctmatch_sequence/tgtg_21mer/bdna+bdna/input/na_enm.crd type cor\n"
     ]
    }
   ],
   "source": [
    "agent.check_enm_crd()"
   ]
  },
  {
   "cell_type": "code",
   "execution_count": null,
   "metadata": {},
   "outputs": [],
   "source": []
  }
 ],
 "metadata": {
  "kernelspec": {
   "display_name": "Python 3",
   "language": "python",
   "name": "python3"
  },
  "language_info": {
   "codemirror_mode": {
    "name": "ipython",
    "version": 3
   },
   "file_extension": ".py",
   "mimetype": "text/x-python",
   "name": "python",
   "nbconvert_exporter": "python",
   "pygments_lexer": "ipython3",
   "version": "3.8.5"
  }
 },
 "nbformat": 4,
 "nbformat_minor": 4
}
