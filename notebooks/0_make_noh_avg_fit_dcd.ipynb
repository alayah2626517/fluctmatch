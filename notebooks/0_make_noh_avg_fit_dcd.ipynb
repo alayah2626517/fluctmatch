{
 "cells": [
  {
   "cell_type": "code",
   "execution_count": 1,
   "metadata": {},
   "outputs": [
    {
     "name": "stdout",
     "output_type": "stream",
     "text": [
      "/Users/alayah361/codes/fluctmatch/notebooks\n"
     ]
    }
   ],
   "source": [
    "!pwd"
   ]
  },
  {
   "cell_type": "code",
   "execution_count": 2,
   "metadata": {},
   "outputs": [],
   "source": [
    "from os import path\n",
    "from shutil import copyfile\n",
    "from fluctmatch import avg_dcd_noh\n",
    "\n",
    "rootfolder = '/Users/alayah361/fluctmatch'\n",
    "na_mechfolder = '/Users/alayah361/codes/fluctmatch'\n",
    "# na_mechfolder = '/home/yizaochen/codes/na_mechanics'\n",
    "d_single_na = {'arna+arna': 'arna', 'bdna+bdna': 'bdna'}\n",
    "vmd = '/usr/local/bin/vmd'"
   ]
  },
  {
   "cell_type": "markdown",
   "metadata": {},
   "source": [
    "### Step 1: Initialize"
   ]
  },
  {
   "cell_type": "code",
   "execution_count": 3,
   "metadata": {},
   "outputs": [
    {
     "name": "stdout",
     "output_type": "stream",
     "text": [
      "/Users/alayah361/fluctmatch/nome exists\n",
      "/Users/alayah361/fluctmatch/nome/bdna+bdna exists\n",
      "/Users/alayah361/fluctmatch/nome/bdna+bdna/input exists\n",
      "/Users/alayah361/fluctmatch/nome/bdna+bdna/input/allatoms exists\n",
      "/Users/alayah361/fluctmatch/nome/bdna+bdna/input/heavyatoms exists\n",
      "/Users/alayah361/fluctmatch/nome/bdna+bdna/charmm_inp exists\n",
      "/Users/alayah361/fluctmatch/nome/bdna+bdna/charmm_dat exists\n",
      "/Users/alayah361/fluctmatch/nome/bdna+bdna/make_crd exists\n"
     ]
    }
   ],
   "source": [
    "host = 'nome'\n",
    "type_na = 'bdna+bdna'\n",
    "n_bp = 13\n",
    "begin_frame = 1\n",
    "frame_num = 10000\n",
    "\n",
    "agent = avg_dcd_noh.AvgcrddcdAgent(host, type_na, rootfolder)"
   ]
  },
  {
   "cell_type": "markdown",
   "metadata": {},
   "source": [
    "### Step 2: Prepare dcd and pdb"
   ]
  },
  {
   "cell_type": "code",
   "execution_count": 15,
   "metadata": {},
   "outputs": [
    {
     "name": "stdout",
     "output_type": "stream",
     "text": [
      "cp nome.pdb nome.xtc /Users/alayah361/fluctmatch/nome/bdna+bdna/allatoms\n",
      "vi /Users/alayah361/codes/fluctmatch/shell_scripts/initialize_input.sh\n",
      "(remember to change:\n",
      "/Users/alayah361/fluctmatch\n",
      "nome\n",
      "bdna+bdna)\n",
      "\n",
      "bash /Users/alayah361/codes/fluctmatch/shell_scripts/initialize_input.sh\n",
      "r 1-13\n"
     ]
    }
   ],
   "source": [
    "inish = path.join(na_mechfolder, 'shell_scripts', 'initialize_input.sh')\n",
    "print(f'cp {host}.pdb {host}.xtc {rootfolder}/{host}/{type_na}/allatoms')\n",
    "print(f'vi /Users/alayah361/codes/fluctmatch/shell_scripts/initialize_input.sh\\n(remember to change:\\n{rootfolder}\\n{host}\\n{type_na})\\n')\n",
    "cmd = f'bash {inish}'\n",
    "print(cmd)\n",
    "cmd = f'r 1-{n_bp}'\n",
    "print(cmd)"
   ]
  },
  {
   "cell_type": "code",
   "execution_count": 16,
   "metadata": {},
   "outputs": [
    {
     "name": "stdout",
     "output_type": "stream",
     "text": [
      "manually delet the oppsite strand:\n",
      "vim /Users/alayah361/fluctmatch/nome/bdna+bdna/input/allatoms/bdna1.central.pdb\n",
      "vim /Users/alayah361/fluctmatch/nome/bdna+bdna/input/allatoms/bdna2.central.pdb\n"
     ]
    }
   ],
   "source": [
    "# Manual Delete\n",
    "aafolder = agent.aa_folder\n",
    "single_na = d_single_na[type_na]\n",
    "temp_pdb = path.join(aafolder, f'{single_na}1.central.pdb')\n",
    "print('manually delet the oppsite strand:')\n",
    "cmd = f'vim {temp_pdb}'\n",
    "print(cmd)\n",
    "temp_pdb = path.join(aafolder, f'{single_na}2.central.pdb')\n",
    "cmd = f'vim {temp_pdb}'\n",
    "print(cmd)"
   ]
  },
  {
   "cell_type": "code",
   "execution_count": 19,
   "metadata": {},
   "outputs": [
    {
     "name": "stdout",
     "output_type": "stream",
     "text": [
      "vi /Users/alayah361/codes/fluctmatch/shell_scripts/pdb_gro2charmm.sh\n",
      "(remember to change:\n",
      "/Users/alayah361/fluctmatch\n",
      "nome bdna+bdna 1 or 2)\n",
      "\n",
      "bash /Users/alayah361/codes/fluctmatch/shell_scripts/pdb_gro2charmm.sh /Users/alayah361/fluctmatch nome bdna+bdna 1\n",
      "bash /Users/alayah361/codes/fluctmatch/shell_scripts/pdb_gro2charmm.sh /Users/alayah361/fluctmatch nome bdna+bdna 2\n"
     ]
    }
   ],
   "source": [
    "pdbcharmmsh = path.join(na_mechfolder, 'shell_scripts', 'pdb_gro2charmm.sh')\n",
    "print(f'vi /Users/alayah361/codes/fluctmatch/shell_scripts/pdb_gro2charmm.sh\\n(remember to change:\\n{rootfolder}\\n{host} {type_na} 1 or 2)\\n')\n",
    "\n",
    "cmd = f'bash {pdbcharmmsh} {rootfolder} {host} {type_na} 1'\n",
    "print(cmd)\n",
    "cmd = f'bash {pdbcharmmsh} {rootfolder} {host} {type_na} 2'\n",
    "print(cmd)"
   ]
  },
  {
   "cell_type": "code",
   "execution_count": 20,
   "metadata": {},
   "outputs": [
    {
     "name": "stdout",
     "output_type": "stream",
     "text": [
      "back to bash and open vmd:\n",
      "vmd -pdb /Users/alayah361/fluctmatch/nome/bdna+bdna/input/allatoms/bdna+bdna.central.pdb -xtc /Users/alayah361/fluctmatch/nome/bdna+bdna/input/allatoms/bdna+bdna.central.xtc\n",
      "\n",
      "TK console:\n",
      "animate write dcd /Users/alayah361/fluctmatch/nome/bdna+bdna/input/allatoms/bdna+bdna.central.dcd beg 1 end 10001 waitfor all\n",
      "\n",
      "vmd -pdb /Users/alayah361/fluctmatch/nome/bdna+bdna/input/allatoms/bdna+bdna.central.pdb -dcd /Users/alayah361/fluctmatch/nome/bdna+bdna/input/allatoms/bdna+bdna.central.dcd\n"
     ]
    }
   ],
   "source": [
    "temp_pdb = path.join(agent.aa_folder, f'{type_na}.central.pdb')\n",
    "temp_xtc = path.join(agent.aa_folder, f'{type_na}.central.xtc')\n",
    "temp_dcd = path.join(agent.aa_folder, f'{type_na}.central.dcd')\n",
    "print('back to bash and open vmd:')\n",
    "cmd = f'vmd -pdb {temp_pdb} -xtc {temp_xtc}'\n",
    "print(cmd)\n",
    "cmd = f'\\nTK console:\\nanimate write dcd {temp_dcd} beg 1 end 10001 waitfor all'\n",
    "print(cmd)\n",
    "cmd = f'\\nvmd -pdb {temp_pdb} -dcd {temp_dcd}'\n",
    "print(cmd)"
   ]
  },
  {
   "cell_type": "markdown",
   "metadata": {},
   "source": [
    "### Step 3: Make CRD (split two strands, then combine) "
   ]
  },
  {
   "cell_type": "markdown",
   "metadata": {},
   "source": [
    "##### 創建inp file"
   ]
  },
  {
   "cell_type": "code",
   "execution_count": 21,
   "metadata": {},
   "outputs": [],
   "source": [
    "#agent.make_crd_input(amber=True, firstter='amber_5ter', lastter='amber_3ter')\n",
    "agent.make_crd_input(amber=False, firstter='5ter', lastter='3ter')"
   ]
  },
  {
   "cell_type": "markdown",
   "metadata": {},
   "source": [
    "##### 使用chramm建系統"
   ]
  },
  {
   "cell_type": "code",
   "execution_count": 22,
   "metadata": {},
   "outputs": [
    {
     "name": "stdout",
     "output_type": "stream",
     "text": [
      "charmm< /Users/alayah361/fluctmatch/nome/bdna+bdna/make_crd/bdna1.inp > /Users/alayah361/fluctmatch/nome/bdna+bdna/make_crd/bdna1.dat\n",
      "charmm< /Users/alayah361/fluctmatch/nome/bdna+bdna/make_crd/bdna2.inp > /Users/alayah361/fluctmatch/nome/bdna+bdna/make_crd/bdna2.dat\n",
      "charmm< /Users/alayah361/fluctmatch/nome/bdna+bdna/make_crd/bdna+bdna.inp > /Users/alayah361/fluctmatch/nome/bdna+bdna/make_crd/bdna+bdna.dat\n"
     ]
    }
   ],
   "source": [
    "agent.make_crd()"
   ]
  },
  {
   "cell_type": "code",
   "execution_count": 23,
   "metadata": {},
   "outputs": [],
   "source": [
    "# # Reset Resid for bdna2.1.pdb, if need\n",
    "# execute = False\n",
    "# if execute:\n",
    "#     offset = -13\n",
    "#     agent.reset_na2_pdb_resid(offset)"
   ]
  },
  {
   "cell_type": "markdown",
   "metadata": {},
   "source": [
    "### Step 4: Make CRD and DCD without hydrogen atoms"
   ]
  },
  {
   "cell_type": "code",
   "execution_count": 24,
   "metadata": {},
   "outputs": [],
   "source": [
    "agent.make_no_h_crd_input(amber = False, firstter = '5ter', lastter = '3ter')"
   ]
  },
  {
   "cell_type": "code",
   "execution_count": 25,
   "metadata": {},
   "outputs": [
    {
     "name": "stdout",
     "output_type": "stream",
     "text": [
      "charmm< /Users/alayah361/fluctmatch/nome/bdna+bdna/charmm_inp/write_no_h_crd.inp > /Users/alayah361/fluctmatch/nome/bdna+bdna/charmm_dat/write_no_h_crd.dat\n"
     ]
    }
   ],
   "source": [
    "agent.make_no_h_crd()"
   ]
  },
  {
   "cell_type": "code",
   "execution_count": 4,
   "metadata": {},
   "outputs": [],
   "source": [
    "agent.make_no_h_dcd_input(amber=False, begin=begin_frame, frame_num=frame_num, firstter='5ter', lastter = '3ter')"
   ]
  },
  {
   "cell_type": "code",
   "execution_count": 5,
   "metadata": {},
   "outputs": [
    {
     "name": "stdout",
     "output_type": "stream",
     "text": [
      "charmm< /Users/alayah361/fluctmatch/nome/bdna+bdna/charmm_inp/write_no_h_dcd.inp > /Users/alayah361/fluctmatch/nome/bdna+bdna/charmm_dat/write_no_h_dcd.dat\n"
     ]
    }
   ],
   "source": [
    "agent.make_no_h_dcd()"
   ]
  },
  {
   "cell_type": "markdown",
   "metadata": {},
   "source": [
    "### Step 5: Make Average CRD and fitting no-H dcd to average crd"
   ]
  },
  {
   "cell_type": "code",
   "execution_count": 28,
   "metadata": {},
   "outputs": [],
   "source": [
    "agent.make_avg_crd_input(amber = False, firstter = '5ter', lastter = '3ter')"
   ]
  },
  {
   "cell_type": "code",
   "execution_count": 29,
   "metadata": {},
   "outputs": [
    {
     "name": "stdout",
     "output_type": "stream",
     "text": [
      "charmm< /Users/alayah361/fluctmatch/nome/bdna+bdna/charmm_inp/write_no_h_avg_crd.inp > /Users/alayah361/fluctmatch/nome/bdna+bdna/charmm_dat/write_no_h_avg_crd.dat\n"
     ]
    }
   ],
   "source": [
    "agent.make_avg_crd()"
   ]
  },
  {
   "cell_type": "code",
   "execution_count": 30,
   "metadata": {},
   "outputs": [],
   "source": [
    "agent.fit_dcd_to_avg_input(amber = False, begin=begin_frame, frame_num=frame_num, firstter = '5ter', lastter = '3ter')"
   ]
  },
  {
   "cell_type": "code",
   "execution_count": 31,
   "metadata": {},
   "outputs": [
    {
     "name": "stdout",
     "output_type": "stream",
     "text": [
      "charmm< /Users/alayah361/fluctmatch/nome/bdna+bdna/charmm_inp/fit_dcd_to_avg.inp > /Users/alayah361/fluctmatch/nome/bdna+bdna/charmm_dat/fit_dcd_to_avg.dat\n"
     ]
    }
   ],
   "source": [
    "agent.fit_dcd_to_avg()"
   ]
  },
  {
   "cell_type": "markdown",
   "metadata": {},
   "source": [
    "### Step 6: Check By VMD"
   ]
  },
  {
   "cell_type": "code",
   "execution_count": 32,
   "metadata": {},
   "outputs": [
    {
     "name": "stdout",
     "output_type": "stream",
     "text": [
      "vmd -cor /Users/alayah361/fluctmatch/nome/bdna+bdna/input/heavyatoms/bdna+bdna.nohydrogen.avg.crd /Users/alayah361/fluctmatch/nome/bdna+bdna/input/heavyatoms/bdna+bdna.nohydrogen.fitavg.dcd\n"
     ]
    }
   ],
   "source": [
    "crd = path.join(agent.heavy_folder, f'{type_na}.nohydrogen.avg.crd')\n",
    "dcd = path.join(agent.heavy_folder, f'{type_na}.nohydrogen.fitavg.dcd')\n",
    "print(f'vmd -cor {crd} {dcd}')"
   ]
  },
  {
   "cell_type": "markdown",
   "metadata": {},
   "source": [
    "### Additional Part: Copy requried files to allsystem folder"
   ]
  },
  {
   "cell_type": "code",
   "execution_count": 58,
   "metadata": {},
   "outputs": [
    {
     "name": "stdout",
     "output_type": "stream",
     "text": [
      "cp /home/yizaochen/simulation/gcgc_21mer/bdna+bdna/data/gro/bdna+bdna.npt4.fit.gro /home/yizaochen/codes/dna_rna/all_systems/gcgc_21mer/bdna+bdna/input/allatoms/bdna+bdna.npt4.all.gro\n",
      "cp /home/yizaochen/simulation/gcgc_21mer/bdna+bdna/data/roughtrj/1000/bdna+bdna.nopbc.fit.1to10.1000.xtc /home/yizaochen/codes/dna_rna/all_systems/gcgc_21mer/bdna+bdna/input/allatoms/bdna+bdna.all.xtc\n",
      "cp /home/yizaochen/simulation/gcgc_21mer/bdna+bdna/bdna+bdna.gro /home/yizaochen/codes/dna_rna/all_systems/gcgc_21mer/bdna+bdna/input/allatoms/bdna+bdna.perfect.gro\n"
     ]
    }
   ],
   "source": [
    "# Copy From simulation folder\n",
    "simu_folder = '/home/yizaochen/simulation'\n",
    "simu_datafolder = path.join(simu_folder, host, type_na, 'data')\n",
    "inputfolder = path.join(rootfolder, host, type_na, 'input', 'allatoms')\n",
    "\n",
    "old_f = path.join(simu_datafolder, 'gro', f'{type_na}.npt4.fit.gro')\n",
    "new_f = path.join(inputfolder, f'{type_na}.npt4.all.gro')\n",
    "copyfile(old_f, new_f)\n",
    "print(f'cp {old_f} {new_f}')\n",
    "\n",
    "old_f = path.join(simu_datafolder, 'roughtrj', '1000', f'{type_na}.nopbc.fit.1to10.1000.xtc')\n",
    "new_f = path.join(inputfolder, f'{type_na}.all.xtc')\n",
    "copyfile(old_f, new_f)\n",
    "print(f'cp {old_f} {new_f}')\n",
    "\n",
    "old_f = path.join(simu_folder, host, type_na, f'{type_na}.gro')\n",
    "new_f = path.join(inputfolder, f'{type_na}.perfect.gro')\n",
    "copyfile(old_f, new_f)\n",
    "print(f'cp {old_f} {new_f}')"
   ]
  },
  {
   "cell_type": "markdown",
   "metadata": {},
   "source": [
    "### Reload Function"
   ]
  },
  {
   "cell_type": "code",
   "execution_count": 15,
   "metadata": {},
   "outputs": [
    {
     "data": {
      "text/plain": [
       "<module 'avg_dcd_noh' from '/home/yizaochen/codes/na_mechanics/avg_dcd_noh.py'>"
      ]
     },
     "execution_count": 15,
     "metadata": {},
     "output_type": "execute_result"
    }
   ],
   "source": [
    "from imp import reload\n",
    "reload(avg_dcd_noh)"
   ]
  },
  {
   "cell_type": "code",
   "execution_count": null,
   "metadata": {},
   "outputs": [],
   "source": []
  }
 ],
 "metadata": {
  "kernelspec": {
   "display_name": "Python 3",
   "language": "python",
   "name": "python3"
  },
  "language_info": {
   "codemirror_mode": {
    "name": "ipython",
    "version": 3
   },
   "file_extension": ".py",
   "mimetype": "text/x-python",
   "name": "python",
   "nbconvert_exporter": "python",
   "pygments_lexer": "ipython3",
   "version": "3.8.6"
  }
 },
 "nbformat": 4,
 "nbformat_minor": 4
}
