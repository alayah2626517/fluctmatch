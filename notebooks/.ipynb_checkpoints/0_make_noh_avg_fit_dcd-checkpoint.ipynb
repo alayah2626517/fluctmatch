{
 "cells": [
  {
   "cell_type": "code",
   "execution_count": 1,
   "metadata": {},
   "outputs": [
    {
     "name": "stdout",
     "output_type": "stream",
     "text": [
      "/Users/alayah361/codes/fluctmatch/notebooks\n"
     ]
    }
   ],
   "source": [
    "!pwd"
   ]
  },
  {
   "cell_type": "code",
   "execution_count": 2,
   "metadata": {},
   "outputs": [],
   "source": [
    "from os import path\n",
    "from shutil import copyfile\n",
    "from fluctmatch import avg_dcd_noh\n",
    "\n",
    "rootfolder = '/Users/alayah361/Documents/Research/work/methylation/cg_13/fluctmatch'\n",
    "na_mechfolder = '/Users/alayah361/codes/fluctmatch'\n",
    "# na_mechfolder = '/home/yizaochen/codes/na_mechanics'\n",
    "d_single_na = {'arna+arna': 'arna', 'bdna+bdna': 'bdna'}\n",
    "vmd = '/usr/local/bin/vmd'"
   ]
  },
  {
   "cell_type": "markdown",
   "metadata": {},
   "source": [
    "### Step 1: Initialize"
   ]
  },
  {
   "cell_type": "code",
   "execution_count": 3,
   "metadata": {},
   "outputs": [
    {
     "name": "stdout",
     "output_type": "stream",
     "text": [
      "/Users/alayah361/Documents/Research/work/methylation/cg_13/fluctmatch/nome exists\n",
      "/Users/alayah361/Documents/Research/work/methylation/cg_13/fluctmatch/nome/bdna+bdna exists\n",
      "/Users/alayah361/Documents/Research/work/methylation/cg_13/fluctmatch/nome/bdna+bdna/input exists\n",
      "/Users/alayah361/Documents/Research/work/methylation/cg_13/fluctmatch/nome/bdna+bdna/input/allatoms exists\n",
      "/Users/alayah361/Documents/Research/work/methylation/cg_13/fluctmatch/nome/bdna+bdna/input/heavyatoms exists\n",
      "/Users/alayah361/Documents/Research/work/methylation/cg_13/fluctmatch/nome/bdna+bdna/charmm_inp exists\n",
      "/Users/alayah361/Documents/Research/work/methylation/cg_13/fluctmatch/nome/bdna+bdna/charmm_dat exists\n",
      "/Users/alayah361/Documents/Research/work/methylation/cg_13/fluctmatch/nome/bdna+bdna/make_crd exists\n"
     ]
    }
   ],
   "source": [
    "host = 'nome'\n",
    "type_na = 'bdna+bdna'\n",
    "n_bp = 13\n",
    "begin_frame = 1\n",
    "frame_num = 10000\n",
    "\n",
    "agent = avg_dcd_noh.AvgcrddcdAgent(host, type_na, rootfolder)"
   ]
  },
  {
   "cell_type": "markdown",
   "metadata": {},
   "source": [
    "### Step 2: Prepare dcd and pdb"
   ]
  },
  {
   "cell_type": "code",
   "execution_count": 4,
   "metadata": {},
   "outputs": [
    {
     "name": "stdout",
     "output_type": "stream",
     "text": [
      "vi initialize_input.sh\n",
      "(remember to change:\n",
      "/Users/alayah361/Documents/Research/work/methylation/cg_13/fluctmatch\n",
      "nome\n",
      "bdna+bdna)\n",
      "\n",
      "bash /Users/alayah361/codes/fluctmatch/shell_scripts/initialize_input.sh\n",
      "\n",
      "r 1-13\n"
     ]
    }
   ],
   "source": [
    "inish = path.join(na_mechfolder, 'shell_scripts', 'initialize_input.sh')\n",
    "print(f'vi initialize_input.sh\\n(remember to change:\\n{rootfolder}\\n{host}\\n{type_na})\\n')\n",
    "cmd = f'bash {inish}\\n'\n",
    "print(cmd)\n",
    "cmd = f'r 1-{n_bp}'\n",
    "print(cmd)"
   ]
  },
  {
   "cell_type": "code",
   "execution_count": 14,
   "metadata": {},
   "outputs": [
    {
     "name": "stdout",
     "output_type": "stream",
     "text": [
      "manually delet the oppsite strand\n",
      "vim /Users/alayah361/Documents/Research/work/methylation/cg_13/fluctmatch/nome/bdna+bdna/input/allatoms/bdna1.central.pdb\n",
      "vim /Users/alayah361/Documents/Research/work/methylation/cg_13/fluctmatch/nome/bdna+bdna/input/allatoms/bdna2.central.pdb\n"
     ]
    }
   ],
   "source": [
    "# Manual Delete\n",
    "aafolder = agent.aa_folder\n",
    "single_na = d_single_na[type_na]\n",
    "temp_pdb = path.join(aafolder, f'{single_na}1.central.pdb')\n",
    "print('manually delet the oppsite strand:')\n",
    "cmd = f'vim {temp_pdb}'\n",
    "print(cmd)\n",
    "temp_pdb = path.join(aafolder, f'{single_na}2.central.pdb')\n",
    "cmd = f'vim {temp_pdb}'\n",
    "print(cmd)"
   ]
  },
  {
   "cell_type": "code",
   "execution_count": 19,
   "metadata": {},
   "outputs": [
    {
     "name": "stdout",
     "output_type": "stream",
     "text": [
      "vi pdb_gro2charmm.sh\n",
      "(remember to change:\n",
      "/Users/alayah361/Documents/Research/work/methylation/cg_13/fluctmatch\n",
      "nome bdna+bdna 1)\n",
      "\n",
      "bash /Users/alayah361/codes/fluctmatch/shell_scripts/pdb_gro2charmm.sh /Users/alayah361/Documents/Research/work/methylation/cg_13/fluctmatch nome bdna+bdna 1\n",
      "bash /Users/alayah361/codes/fluctmatch/shell_scripts/pdb_gro2charmm.sh /Users/alayah361/Documents/Research/work/methylation/cg_13/fluctmatch nome bdna+bdna 2\n"
     ]
    }
   ],
   "source": [
    "pdbcharmmsh = path.join(na_mechfolder, 'shell_scripts', 'pdb_gro2charmm.sh')\n",
    "print(f'vi pdb_gro2charmm.sh\\n(remember to change:\\n{rootfolder}\\n{host} {type_na} 1)\\n')\n",
    "\n",
    "cmd = f'bash {pdbcharmmsh} {rootfolder} {host} {type_na} 1'\n",
    "print(cmd)\n",
    "cmd = f'bash {pdbcharmmsh} {rootfolder} {host} {type_na} 2'\n",
    "print(cmd)"
   ]
  },
  {
   "cell_type": "code",
   "execution_count": 27,
   "metadata": {},
   "outputs": [
    {
     "name": "stdout",
     "output_type": "stream",
     "text": [
      "back to bash and open vmd:\n",
      "vmd -pdb /Users/alayah361/Documents/Research/work/methylation/cg_13/fluctmatch/nome/bdna+bdna/input/allatoms/bdna+bdna.central.pdb -xtc /Users/alayah361/Documents/Research/work/methylation/cg_13/fluctmatch/nome/bdna+bdna/input/allatoms/bdna+bdna.central.xtc\n",
      "\n",
      "TK console:\n",
      "animate write dcd /Users/alayah361/Documents/Research/work/methylation/cg_13/fluctmatch/nome/bdna+bdna/input/allatoms/bdna+bdna.central.dcd beg 1 end 10001 waitfor all\n",
      "\n",
      "vmd -pdb /Users/alayah361/Documents/Research/work/methylation/cg_13/fluctmatch/nome/bdna+bdna/input/allatoms/bdna+bdna.central.pdb -dcd /Users/alayah361/Documents/Research/work/methylation/cg_13/fluctmatch/nome/bdna+bdna/input/allatoms/bdna+bdna.central.dcd\n"
     ]
    }
   ],
   "source": [
    "temp_pdb = path.join(agent.aa_folder, f'{type_na}.central.pdb')\n",
    "temp_xtc = path.join(agent.aa_folder, f'{type_na}.central.xtc')\n",
    "temp_dcd = path.join(agent.aa_folder, f'{type_na}.central.dcd')\n",
    "print('back to bash and open vmd:')\n",
    "cmd = f'vmd -pdb {temp_pdb} -xtc {temp_xtc}'\n",
    "print(cmd)\n",
    "cmd = f'\\nTK console:\\nanimate write dcd {temp_dcd} beg 1 end 10001 waitfor all'\n",
    "print(cmd)\n",
    "cmd = f'\\nvmd -pdb {temp_pdb} -dcd {temp_dcd}'\n",
    "print(cmd)"
   ]
  },
  {
   "cell_type": "markdown",
   "metadata": {},
   "source": [
    "### Step 3: Make CRD (split two strands, then combine) "
   ]
  },
  {
   "cell_type": "markdown",
   "metadata": {},
   "source": [
    "##### 創建inp file"
   ]
  },
  {
   "cell_type": "code",
   "execution_count": 4,
   "metadata": {},
   "outputs": [],
   "source": [
    "#agent.make_crd_input(amber=True, firstter='amber_5ter', lastter='amber_3ter')\n",
    "agent.make_crd_input(amber=False, firstter='5ter', lastter='3ter')"
   ]
  },
  {
   "cell_type": "markdown",
   "metadata": {},
   "source": [
    "##### 使用chramm建系統"
   ]
  },
  {
   "cell_type": "code",
   "execution_count": 5,
   "metadata": {},
   "outputs": [
    {
     "name": "stdout",
     "output_type": "stream",
     "text": [
      "charmm< /Users/alayah361/Documents/Research/work/methylation/cg_13/fluctmatch/nome/bdna+bdna/make_crd/bdna1.inp > /Users/alayah361/Documents/Research/work/methylation/cg_13/fluctmatch/nome/bdna+bdna/make_crd/bdna1.dat\n",
      "charmm< /Users/alayah361/Documents/Research/work/methylation/cg_13/fluctmatch/nome/bdna+bdna/make_crd/bdna2.inp > /Users/alayah361/Documents/Research/work/methylation/cg_13/fluctmatch/nome/bdna+bdna/make_crd/bdna2.dat\n",
      "charmm< /Users/alayah361/Documents/Research/work/methylation/cg_13/fluctmatch/nome/bdna+bdna/make_crd/bdna+bdna.inp > /Users/alayah361/Documents/Research/work/methylation/cg_13/fluctmatch/nome/bdna+bdna/make_crd/bdna+bdna.dat\n"
     ]
    }
   ],
   "source": [
    "agent.make_crd()"
   ]
  },
  {
   "cell_type": "code",
   "execution_count": 6,
   "metadata": {},
   "outputs": [],
   "source": [
    "# Reset Resid for bdna2.1.pdb, if need\n",
    "execute = False\n",
    "if execute:\n",
    "    offset = -13\n",
    "    agent.reset_na2_pdb_resid(offset)"
   ]
  },
  {
   "cell_type": "markdown",
   "metadata": {},
   "source": [
    "### Step 4: Make CRD and DCD without hydrogen atoms"
   ]
  },
  {
   "cell_type": "code",
   "execution_count": 9,
   "metadata": {},
   "outputs": [],
   "source": [
    "agent.make_no_h_crd_input(amber = False, firstter = '5ter', lastter = '3ter')"
   ]
  },
  {
   "cell_type": "code",
   "execution_count": 10,
   "metadata": {},
   "outputs": [
    {
     "name": "stdout",
     "output_type": "stream",
     "text": [
      "charmm< /Users/alayah361/Documents/Research/work/methylation/cg_13/fluctmatch/nome/bdna+bdna/charmm_inp/write_no_h_crd.inp > /Users/alayah361/Documents/Research/work/methylation/cg_13/fluctmatch/nome/bdna+bdna/charmm_dat/write_no_h_crd.dat\n"
     ]
    }
   ],
   "source": [
    "agent.make_no_h_crd()"
   ]
  },
  {
   "cell_type": "code",
   "execution_count": 7,
   "metadata": {},
   "outputs": [],
   "source": [
    "agent.make_no_h_dcd_input(amber=False, begin=begin_frame, frame_num=frame_num, firstter='5ter', lastter = '3ter')"
   ]
  },
  {
   "cell_type": "code",
   "execution_count": 8,
   "metadata": {},
   "outputs": [
    {
     "name": "stdout",
     "output_type": "stream",
     "text": [
      "charmm< /Users/alayah361/Documents/Research/work/methylation/cg_13/fluctmatch/nome/bdna+bdna/charmm_inp/write_no_h_dcd.inp > /Users/alayah361/Documents/Research/work/methylation/cg_13/fluctmatch/nome/bdna+bdna/charmm_dat/write_no_h_dcd.dat\n"
     ]
    },
    {
     "ename": "CalledProcessError",
     "evalue": "Command '/Users/alayah361/Documents/Research/charmm/bin/charmm' returned non-zero exit status 1.",
     "output_type": "error",
     "traceback": [
      "\u001b[0;31m---------------------------------------------------------------------------\u001b[0m",
      "\u001b[0;31mCalledProcessError\u001b[0m                        Traceback (most recent call last)",
      "\u001b[0;32m<ipython-input-8-399a1f071b45>\u001b[0m in \u001b[0;36m<module>\u001b[0;34m\u001b[0m\n\u001b[0;32m----> 1\u001b[0;31m \u001b[0magent\u001b[0m\u001b[0;34m.\u001b[0m\u001b[0mmake_no_h_dcd\u001b[0m\u001b[0;34m(\u001b[0m\u001b[0;34m)\u001b[0m\u001b[0;34m\u001b[0m\u001b[0;34m\u001b[0m\u001b[0m\n\u001b[0m",
      "\u001b[0;32m~/codes/fluctmatch/fluctmatch/avg_dcd_noh.py\u001b[0m in \u001b[0;36mmake_no_h_dcd\u001b[0;34m(self)\u001b[0m\n\u001b[1;32m    243\u001b[0m         \u001b[0mf_inp\u001b[0m \u001b[0;34m=\u001b[0m \u001b[0mpath\u001b[0m\u001b[0;34m.\u001b[0m\u001b[0mjoin\u001b[0m\u001b[0;34m(\u001b[0m\u001b[0mself\u001b[0m\u001b[0;34m.\u001b[0m\u001b[0minp_folder\u001b[0m\u001b[0;34m,\u001b[0m \u001b[0;34m'write_no_h_dcd.inp'\u001b[0m\u001b[0;34m)\u001b[0m\u001b[0;34m\u001b[0m\u001b[0;34m\u001b[0m\u001b[0m\n\u001b[1;32m    244\u001b[0m         \u001b[0mf_dat\u001b[0m \u001b[0;34m=\u001b[0m \u001b[0mpath\u001b[0m\u001b[0;34m.\u001b[0m\u001b[0mjoin\u001b[0m\u001b[0;34m(\u001b[0m\u001b[0mself\u001b[0m\u001b[0;34m.\u001b[0m\u001b[0mdat_folder\u001b[0m\u001b[0;34m,\u001b[0m \u001b[0;34m'write_no_h_dcd.dat'\u001b[0m\u001b[0;34m)\u001b[0m\u001b[0;34m\u001b[0m\u001b[0;34m\u001b[0m\u001b[0m\n\u001b[0;32m--> 245\u001b[0;31m         \u001b[0mexec_charmm\u001b[0m\u001b[0;34m(\u001b[0m\u001b[0mf_inp\u001b[0m\u001b[0;34m,\u001b[0m \u001b[0mf_dat\u001b[0m\u001b[0;34m)\u001b[0m\u001b[0;34m\u001b[0m\u001b[0;34m\u001b[0m\u001b[0m\n\u001b[0m\u001b[1;32m    246\u001b[0m \u001b[0;34m\u001b[0m\u001b[0m\n\u001b[1;32m    247\u001b[0m     \u001b[0;32mdef\u001b[0m \u001b[0mmake_avg_crd\u001b[0m\u001b[0;34m(\u001b[0m\u001b[0mself\u001b[0m\u001b[0;34m)\u001b[0m\u001b[0;34m:\u001b[0m\u001b[0;34m\u001b[0m\u001b[0;34m\u001b[0m\u001b[0m\n",
      "\u001b[0;32m~/codes/fluctmatch/fluctmatch/avg_dcd_noh.py\u001b[0m in \u001b[0;36mexec_charmm\u001b[0;34m(f_input, f_output)\u001b[0m\n\u001b[1;32m    295\u001b[0m \u001b[0;32mdef\u001b[0m \u001b[0mexec_charmm\u001b[0m\u001b[0;34m(\u001b[0m\u001b[0mf_input\u001b[0m\u001b[0;34m,\u001b[0m \u001b[0mf_output\u001b[0m\u001b[0;34m)\u001b[0m\u001b[0;34m:\u001b[0m\u001b[0;34m\u001b[0m\u001b[0;34m\u001b[0m\u001b[0m\n\u001b[1;32m    296\u001b[0m     \u001b[0mprint\u001b[0m\u001b[0;34m(\u001b[0m\u001b[0;34m\"charmm< {0} > {1}\"\u001b[0m\u001b[0;34m.\u001b[0m\u001b[0mformat\u001b[0m\u001b[0;34m(\u001b[0m\u001b[0mf_input\u001b[0m\u001b[0;34m,\u001b[0m \u001b[0mf_output\u001b[0m\u001b[0;34m)\u001b[0m\u001b[0;34m)\u001b[0m\u001b[0;34m\u001b[0m\u001b[0;34m\u001b[0m\u001b[0m\n\u001b[0;32m--> 297\u001b[0;31m     \u001b[0mcheck_call\u001b[0m\u001b[0;34m(\u001b[0m\u001b[0mcharmm\u001b[0m\u001b[0;34m,\u001b[0m \u001b[0mstdin\u001b[0m\u001b[0;34m=\u001b[0m\u001b[0mopen\u001b[0m\u001b[0;34m(\u001b[0m\u001b[0mf_input\u001b[0m\u001b[0;34m,\u001b[0m \u001b[0;34m'r'\u001b[0m\u001b[0;34m)\u001b[0m\u001b[0;34m,\u001b[0m \u001b[0mstdout\u001b[0m\u001b[0;34m=\u001b[0m\u001b[0mopen\u001b[0m\u001b[0;34m(\u001b[0m\u001b[0mf_output\u001b[0m\u001b[0;34m,\u001b[0m \u001b[0;34m'w+'\u001b[0m\u001b[0;34m)\u001b[0m\u001b[0;34m,\u001b[0m \u001b[0mshell\u001b[0m\u001b[0;34m=\u001b[0m\u001b[0;32mTrue\u001b[0m\u001b[0;34m)\u001b[0m\u001b[0;34m\u001b[0m\u001b[0;34m\u001b[0m\u001b[0m\n\u001b[0m\u001b[1;32m    298\u001b[0m \u001b[0;34m\u001b[0m\u001b[0m\n\u001b[1;32m    299\u001b[0m \u001b[0;34m\u001b[0m\u001b[0m\n",
      "\u001b[0;32m~/opt/anaconda3/envs/fluctmatch/lib/python3.8/subprocess.py\u001b[0m in \u001b[0;36mcheck_call\u001b[0;34m(*popenargs, **kwargs)\u001b[0m\n\u001b[1;32m    362\u001b[0m         \u001b[0;32mif\u001b[0m \u001b[0mcmd\u001b[0m \u001b[0;32mis\u001b[0m \u001b[0;32mNone\u001b[0m\u001b[0;34m:\u001b[0m\u001b[0;34m\u001b[0m\u001b[0;34m\u001b[0m\u001b[0m\n\u001b[1;32m    363\u001b[0m             \u001b[0mcmd\u001b[0m \u001b[0;34m=\u001b[0m \u001b[0mpopenargs\u001b[0m\u001b[0;34m[\u001b[0m\u001b[0;36m0\u001b[0m\u001b[0;34m]\u001b[0m\u001b[0;34m\u001b[0m\u001b[0;34m\u001b[0m\u001b[0m\n\u001b[0;32m--> 364\u001b[0;31m         \u001b[0;32mraise\u001b[0m \u001b[0mCalledProcessError\u001b[0m\u001b[0;34m(\u001b[0m\u001b[0mretcode\u001b[0m\u001b[0;34m,\u001b[0m \u001b[0mcmd\u001b[0m\u001b[0;34m)\u001b[0m\u001b[0;34m\u001b[0m\u001b[0;34m\u001b[0m\u001b[0m\n\u001b[0m\u001b[1;32m    365\u001b[0m     \u001b[0;32mreturn\u001b[0m \u001b[0;36m0\u001b[0m\u001b[0;34m\u001b[0m\u001b[0;34m\u001b[0m\u001b[0m\n\u001b[1;32m    366\u001b[0m \u001b[0;34m\u001b[0m\u001b[0m\n",
      "\u001b[0;31mCalledProcessError\u001b[0m: Command '/Users/alayah361/Documents/Research/charmm/bin/charmm' returned non-zero exit status 1."
     ]
    }
   ],
   "source": [
    "agent.make_no_h_dcd()"
   ]
  },
  {
   "cell_type": "markdown",
   "metadata": {},
   "source": [
    "### Step 5: Make Average CRD and fitting no-H dcd to average crd"
   ]
  },
  {
   "cell_type": "code",
   "execution_count": 4,
   "metadata": {},
   "outputs": [],
   "source": [
    "agent.make_avg_crd_input(amber = False, firstter = '5ter', lastter = '3ter')"
   ]
  },
  {
   "cell_type": "code",
   "execution_count": 5,
   "metadata": {},
   "outputs": [
    {
     "name": "stdout",
     "output_type": "stream",
     "text": [
      "charmm< /Users/alayah361/Documents/Research/work/methylation/cg_13/fluctmatch/nome/bdna+bdna/charmm_inp/write_no_h_avg_crd.inp > /Users/alayah361/Documents/Research/work/methylation/cg_13/fluctmatch/nome/bdna+bdna/charmm_dat/write_no_h_avg_crd.dat\n"
     ]
    },
    {
     "ename": "CalledProcessError",
     "evalue": "Command '/Users/alayah361/Documents/Research/charmm/bin/charmm' returned non-zero exit status 1.",
     "output_type": "error",
     "traceback": [
      "\u001b[0;31m---------------------------------------------------------------------------\u001b[0m",
      "\u001b[0;31mCalledProcessError\u001b[0m                        Traceback (most recent call last)",
      "\u001b[0;32m<ipython-input-5-3156d57bff25>\u001b[0m in \u001b[0;36m<module>\u001b[0;34m\u001b[0m\n\u001b[0;32m----> 1\u001b[0;31m \u001b[0magent\u001b[0m\u001b[0;34m.\u001b[0m\u001b[0mmake_avg_crd\u001b[0m\u001b[0;34m(\u001b[0m\u001b[0;34m)\u001b[0m\u001b[0;34m\u001b[0m\u001b[0;34m\u001b[0m\u001b[0m\n\u001b[0m",
      "\u001b[0;32m~/codes/fluctmatch/fluctmatch/avg_dcd_noh.py\u001b[0m in \u001b[0;36mmake_avg_crd\u001b[0;34m(self)\u001b[0m\n\u001b[1;32m    248\u001b[0m         \u001b[0mf_inp\u001b[0m \u001b[0;34m=\u001b[0m \u001b[0mpath\u001b[0m\u001b[0;34m.\u001b[0m\u001b[0mjoin\u001b[0m\u001b[0;34m(\u001b[0m\u001b[0mself\u001b[0m\u001b[0;34m.\u001b[0m\u001b[0minp_folder\u001b[0m\u001b[0;34m,\u001b[0m \u001b[0;34m'write_no_h_avg_crd.inp'\u001b[0m\u001b[0;34m)\u001b[0m\u001b[0;34m\u001b[0m\u001b[0;34m\u001b[0m\u001b[0m\n\u001b[1;32m    249\u001b[0m         \u001b[0mf_dat\u001b[0m \u001b[0;34m=\u001b[0m \u001b[0mpath\u001b[0m\u001b[0;34m.\u001b[0m\u001b[0mjoin\u001b[0m\u001b[0;34m(\u001b[0m\u001b[0mself\u001b[0m\u001b[0;34m.\u001b[0m\u001b[0mdat_folder\u001b[0m\u001b[0;34m,\u001b[0m \u001b[0;34m'write_no_h_avg_crd.dat'\u001b[0m\u001b[0;34m)\u001b[0m\u001b[0;34m\u001b[0m\u001b[0;34m\u001b[0m\u001b[0m\n\u001b[0;32m--> 250\u001b[0;31m         \u001b[0mexec_charmm\u001b[0m\u001b[0;34m(\u001b[0m\u001b[0mf_inp\u001b[0m\u001b[0;34m,\u001b[0m \u001b[0mf_dat\u001b[0m\u001b[0;34m)\u001b[0m\u001b[0;34m\u001b[0m\u001b[0;34m\u001b[0m\u001b[0m\n\u001b[0m\u001b[1;32m    251\u001b[0m \u001b[0;34m\u001b[0m\u001b[0m\n\u001b[1;32m    252\u001b[0m     \u001b[0;32mdef\u001b[0m \u001b[0mfit_dcd_to_avg\u001b[0m\u001b[0;34m(\u001b[0m\u001b[0mself\u001b[0m\u001b[0;34m)\u001b[0m\u001b[0;34m:\u001b[0m\u001b[0;34m\u001b[0m\u001b[0;34m\u001b[0m\u001b[0m\n",
      "\u001b[0;32m~/codes/fluctmatch/fluctmatch/avg_dcd_noh.py\u001b[0m in \u001b[0;36mexec_charmm\u001b[0;34m(f_input, f_output)\u001b[0m\n\u001b[1;32m    295\u001b[0m \u001b[0;32mdef\u001b[0m \u001b[0mexec_charmm\u001b[0m\u001b[0;34m(\u001b[0m\u001b[0mf_input\u001b[0m\u001b[0;34m,\u001b[0m \u001b[0mf_output\u001b[0m\u001b[0;34m)\u001b[0m\u001b[0;34m:\u001b[0m\u001b[0;34m\u001b[0m\u001b[0;34m\u001b[0m\u001b[0m\n\u001b[1;32m    296\u001b[0m     \u001b[0mprint\u001b[0m\u001b[0;34m(\u001b[0m\u001b[0;34m\"charmm< {0} > {1}\"\u001b[0m\u001b[0;34m.\u001b[0m\u001b[0mformat\u001b[0m\u001b[0;34m(\u001b[0m\u001b[0mf_input\u001b[0m\u001b[0;34m,\u001b[0m \u001b[0mf_output\u001b[0m\u001b[0;34m)\u001b[0m\u001b[0;34m)\u001b[0m\u001b[0;34m\u001b[0m\u001b[0;34m\u001b[0m\u001b[0m\n\u001b[0;32m--> 297\u001b[0;31m     \u001b[0mcheck_call\u001b[0m\u001b[0;34m(\u001b[0m\u001b[0mcharmm\u001b[0m\u001b[0;34m,\u001b[0m \u001b[0mstdin\u001b[0m\u001b[0;34m=\u001b[0m\u001b[0mopen\u001b[0m\u001b[0;34m(\u001b[0m\u001b[0mf_input\u001b[0m\u001b[0;34m,\u001b[0m \u001b[0;34m'r'\u001b[0m\u001b[0;34m)\u001b[0m\u001b[0;34m,\u001b[0m \u001b[0mstdout\u001b[0m\u001b[0;34m=\u001b[0m\u001b[0mopen\u001b[0m\u001b[0;34m(\u001b[0m\u001b[0mf_output\u001b[0m\u001b[0;34m,\u001b[0m \u001b[0;34m'w+'\u001b[0m\u001b[0;34m)\u001b[0m\u001b[0;34m,\u001b[0m \u001b[0mshell\u001b[0m\u001b[0;34m=\u001b[0m\u001b[0;32mTrue\u001b[0m\u001b[0;34m)\u001b[0m\u001b[0;34m\u001b[0m\u001b[0;34m\u001b[0m\u001b[0m\n\u001b[0m\u001b[1;32m    298\u001b[0m \u001b[0;34m\u001b[0m\u001b[0m\n\u001b[1;32m    299\u001b[0m \u001b[0;34m\u001b[0m\u001b[0m\n",
      "\u001b[0;32m~/opt/anaconda3/envs/fluctmatch/lib/python3.8/subprocess.py\u001b[0m in \u001b[0;36mcheck_call\u001b[0;34m(*popenargs, **kwargs)\u001b[0m\n\u001b[1;32m    362\u001b[0m         \u001b[0;32mif\u001b[0m \u001b[0mcmd\u001b[0m \u001b[0;32mis\u001b[0m \u001b[0;32mNone\u001b[0m\u001b[0;34m:\u001b[0m\u001b[0;34m\u001b[0m\u001b[0;34m\u001b[0m\u001b[0m\n\u001b[1;32m    363\u001b[0m             \u001b[0mcmd\u001b[0m \u001b[0;34m=\u001b[0m \u001b[0mpopenargs\u001b[0m\u001b[0;34m[\u001b[0m\u001b[0;36m0\u001b[0m\u001b[0;34m]\u001b[0m\u001b[0;34m\u001b[0m\u001b[0;34m\u001b[0m\u001b[0m\n\u001b[0;32m--> 364\u001b[0;31m         \u001b[0;32mraise\u001b[0m \u001b[0mCalledProcessError\u001b[0m\u001b[0;34m(\u001b[0m\u001b[0mretcode\u001b[0m\u001b[0;34m,\u001b[0m \u001b[0mcmd\u001b[0m\u001b[0;34m)\u001b[0m\u001b[0;34m\u001b[0m\u001b[0;34m\u001b[0m\u001b[0m\n\u001b[0m\u001b[1;32m    365\u001b[0m     \u001b[0;32mreturn\u001b[0m \u001b[0;36m0\u001b[0m\u001b[0;34m\u001b[0m\u001b[0;34m\u001b[0m\u001b[0m\n\u001b[1;32m    366\u001b[0m \u001b[0;34m\u001b[0m\u001b[0m\n",
      "\u001b[0;31mCalledProcessError\u001b[0m: Command '/Users/alayah361/Documents/Research/charmm/bin/charmm' returned non-zero exit status 1."
     ]
    }
   ],
   "source": [
    "agent.make_avg_crd()"
   ]
  },
  {
   "cell_type": "code",
   "execution_count": 35,
   "metadata": {},
   "outputs": [],
   "source": [
    "agent.fit_dcd_to_avg_input(amber = False, begin=begin_frame, frame_num=frame_num, firstter = '5ter', lastter = '3ter')"
   ]
  },
  {
   "cell_type": "code",
   "execution_count": 36,
   "metadata": {},
   "outputs": [
    {
     "name": "stdout",
     "output_type": "stream",
     "text": [
      "charmm< /home/yizaochen/codes/dna_rna/all_systems/tgtg_21mer/bdna+bdna/charmm_inp/fit_dcd_to_avg.inp > /home/yizaochen/codes/dna_rna/all_systems/tgtg_21mer/bdna+bdna/charmm_dat/fit_dcd_to_avg.dat\n"
     ]
    }
   ],
   "source": [
    "agent.fit_dcd_to_avg()"
   ]
  },
  {
   "cell_type": "markdown",
   "metadata": {},
   "source": [
    "### Step 6: Check By VMD"
   ]
  },
  {
   "cell_type": "code",
   "execution_count": 37,
   "metadata": {},
   "outputs": [
    {
     "name": "stdout",
     "output_type": "stream",
     "text": [
      "vmd -cor /home/yizaochen/codes/dna_rna/all_systems/tgtg_21mer/bdna+bdna/input/heavyatoms/bdna+bdna.nohydrogen.avg.crd /home/yizaochen/codes/dna_rna/all_systems/tgtg_21mer/bdna+bdna/input/heavyatoms/bdna+bdna.nohydrogen.fitavg.dcd\n"
     ]
    }
   ],
   "source": [
    "crd = path.join(agent.heavy_folder, f'{type_na}.nohydrogen.avg.crd')\n",
    "dcd = path.join(agent.heavy_folder, f'{type_na}.nohydrogen.fitavg.dcd')\n",
    "print(f'vmd -cor {crd} {dcd}')"
   ]
  },
  {
   "cell_type": "markdown",
   "metadata": {},
   "source": [
    "### Additional Part: Copy requried files to allsystem folder"
   ]
  },
  {
   "cell_type": "code",
   "execution_count": 58,
   "metadata": {},
   "outputs": [
    {
     "name": "stdout",
     "output_type": "stream",
     "text": [
      "cp /home/yizaochen/simulation/gcgc_21mer/bdna+bdna/data/gro/bdna+bdna.npt4.fit.gro /home/yizaochen/codes/dna_rna/all_systems/gcgc_21mer/bdna+bdna/input/allatoms/bdna+bdna.npt4.all.gro\n",
      "cp /home/yizaochen/simulation/gcgc_21mer/bdna+bdna/data/roughtrj/1000/bdna+bdna.nopbc.fit.1to10.1000.xtc /home/yizaochen/codes/dna_rna/all_systems/gcgc_21mer/bdna+bdna/input/allatoms/bdna+bdna.all.xtc\n",
      "cp /home/yizaochen/simulation/gcgc_21mer/bdna+bdna/bdna+bdna.gro /home/yizaochen/codes/dna_rna/all_systems/gcgc_21mer/bdna+bdna/input/allatoms/bdna+bdna.perfect.gro\n"
     ]
    }
   ],
   "source": [
    "# Copy From simulation folder\n",
    "simu_folder = '/home/yizaochen/simulation'\n",
    "simu_datafolder = path.join(simu_folder, host, type_na, 'data')\n",
    "inputfolder = path.join(rootfolder, host, type_na, 'input', 'allatoms')\n",
    "\n",
    "old_f = path.join(simu_datafolder, 'gro', f'{type_na}.npt4.fit.gro')\n",
    "new_f = path.join(inputfolder, f'{type_na}.npt4.all.gro')\n",
    "copyfile(old_f, new_f)\n",
    "print(f'cp {old_f} {new_f}')\n",
    "\n",
    "old_f = path.join(simu_datafolder, 'roughtrj', '1000', f'{type_na}.nopbc.fit.1to10.1000.xtc')\n",
    "new_f = path.join(inputfolder, f'{type_na}.all.xtc')\n",
    "copyfile(old_f, new_f)\n",
    "print(f'cp {old_f} {new_f}')\n",
    "\n",
    "old_f = path.join(simu_folder, host, type_na, f'{type_na}.gro')\n",
    "new_f = path.join(inputfolder, f'{type_na}.perfect.gro')\n",
    "copyfile(old_f, new_f)\n",
    "print(f'cp {old_f} {new_f}')"
   ]
  },
  {
   "cell_type": "markdown",
   "metadata": {},
   "source": [
    "### Reload Function"
   ]
  },
  {
   "cell_type": "code",
   "execution_count": 15,
   "metadata": {},
   "outputs": [
    {
     "data": {
      "text/plain": [
       "<module 'avg_dcd_noh' from '/home/yizaochen/codes/na_mechanics/avg_dcd_noh.py'>"
      ]
     },
     "execution_count": 15,
     "metadata": {},
     "output_type": "execute_result"
    }
   ],
   "source": [
    "from imp import reload\n",
    "reload(avg_dcd_noh)"
   ]
  },
  {
   "cell_type": "code",
   "execution_count": null,
   "metadata": {},
   "outputs": [],
   "source": []
  }
 ],
 "metadata": {
  "kernelspec": {
   "display_name": "Python 3",
   "language": "python",
   "name": "python3"
  },
  "language_info": {
   "codemirror_mode": {
    "name": "ipython",
    "version": 3
   },
   "file_extension": ".py",
   "mimetype": "text/x-python",
   "name": "python",
   "nbconvert_exporter": "python",
   "pygments_lexer": "ipython3",
   "version": "3.8.6"
  }
 },
 "nbformat": 4,
 "nbformat_minor": 4
}
