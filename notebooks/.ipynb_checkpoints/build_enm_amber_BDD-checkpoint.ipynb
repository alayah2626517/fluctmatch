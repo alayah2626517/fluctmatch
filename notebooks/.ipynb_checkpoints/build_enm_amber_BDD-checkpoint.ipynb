{
 "cells": [
  {
   "cell_type": "code",
   "execution_count": 1,
   "metadata": {},
   "outputs": [],
   "source": [
    "from os import path\n",
    "from glob import glob\n",
    "from shutil import copy\n",
    "import enm, rtf, ic_str\n",
    "cutoff = 10.\n",
    "enm_rootfolder = '/Users/yizao/PycharmProjects/ENM'"
   ]
  },
  {
   "cell_type": "code",
   "execution_count": 2,
   "metadata": {},
   "outputs": [
    {
     "name": "stdout",
     "output_type": "stream",
     "text": [
      "/Users/yizao/PycharmProjects/ENM/pnas_amber_16mer exists\n",
      "/Users/yizao/PycharmProjects/ENM/pnas_amber_16mer/bdna+bdna exists\n",
      "/Users/yizao/PycharmProjects/ENM/pnas_amber_16mer/bdna+bdna/input exists\n",
      "/Users/yizao/PycharmProjects/ENM/pnas_amber_16mer/bdna+bdna/charmm_inp exists\n",
      "/Users/yizao/PycharmProjects/ENM/pnas_amber_16mer/bdna+bdna/charmm_dat exists\n",
      "/Users/yizao/PycharmProjects/ENM/pnas_amber_16mer/bdna+bdna/mode_traj exists\n",
      "/Users/yizao/PycharmProjects/ENM/pnas_amber_16mer/bdna+bdna/ic exists\n",
      "/Users/yizao/PycharmProjects/ENM/pnas_amber_16mer/bdna+bdna/ic_fluct_mat exists\n",
      "/Users/yizao/PycharmProjects/ENM/pnas_amber_16mer/bdna+bdna/rtf_ic_str exists\n",
      "/Users/yizao/PycharmProjects/ENM/pnas_amber_16mer/bdna+bdna/data exists\n",
      "/Users/yizao/PycharmProjects/ENM/pnas_amber_16mer/bdna+bdna/data/backup exists\n"
     ]
    }
   ],
   "source": [
    "host = 'pnas_amber_16mer'\n",
    "type_na = 'bdna+bdna'\n",
    "agent = enm.ENMAgent(host, type_na)"
   ]
  },
  {
   "cell_type": "markdown",
   "metadata": {},
   "source": [
    "### Part 1: Get All Pairs"
   ]
  },
  {
   "cell_type": "code",
   "execution_count": 3,
   "metadata": {},
   "outputs": [
    {
     "name": "stdout",
     "output_type": "stream",
     "text": [
      "Number of Beads: 650\n",
      "Number of Pairs: 35892\n"
     ]
    }
   ],
   "source": [
    "pairs = agent.get_all_pairs(cutoff=cutoff)\n",
    "n_atoms = len(agent.atomid_map)\n",
    "n_pairs = len(pairs)\n",
    "print(f'Number of Beads: {n_atoms}')\n",
    "print(f'Number of Pairs: {n_pairs}')"
   ]
  },
  {
   "cell_type": "markdown",
   "metadata": {},
   "source": [
    "### Part 2: Make RTF"
   ]
  },
  {
   "cell_type": "code",
   "execution_count": 4,
   "metadata": {},
   "outputs": [
    {
     "name": "stdout",
     "output_type": "stream",
     "text": [
      "Generate /Users/yizao/PycharmProjects/ENM/pnas_amber_16mer/bdna+bdna/rtf_ic_str/na_enm.rtf\n"
     ]
    }
   ],
   "source": [
    "rtf_agent = rtf.RTF(host, type_na, agent.crd, pairs, agent.mass_map)\n",
    "f_out = path.join(enm_rootfolder, host, type_na, 'rtf_ic_str', 'na_enm.rtf')\n",
    "rtf_agent.write_rtf(f_out)\n",
    "print(f'Generate {f_out}')"
   ]
  },
  {
   "cell_type": "markdown",
   "metadata": {},
   "source": [
    "### Part 3: Make IC-Stream "
   ]
  },
  {
   "cell_type": "code",
   "execution_count": 5,
   "metadata": {},
   "outputs": [
    {
     "name": "stdout",
     "output_type": "stream",
     "text": [
      "Generate /Users/yizao/PycharmProjects/ENM/pnas_amber_16mer/bdna+bdna/rtf_ic_str/na_enm.str\n"
     ]
    }
   ],
   "source": [
    "f_out = path.join(enm_rootfolder, host, type_na, 'rtf_ic_str', 'na_enm.str')\n",
    "icstr_agent = ic_str.ICSTR(host, type_na, agent.crd, pairs, agent.atomid_map)\n",
    "icstr_agent.write_ic_str(f_out)\n",
    "print(f'Generate {f_out}')"
   ]
  },
  {
   "cell_type": "markdown",
   "metadata": {},
   "source": [
    "### Part 4: Copy all charmm input files"
   ]
  },
  {
   "cell_type": "code",
   "execution_count": 6,
   "metadata": {},
   "outputs": [
    {
     "name": "stdout",
     "output_type": "stream",
     "text": [
      "cp /Users/yizao/PycharmProjects/ENM/pnas_amber_clean/bdna+bdna/charmm_inp/get_hessian.inp /Users/yizao/PycharmProjects/ENM/pnas_amber_16mer/bdna+bdna/charmm_inp\n",
      "cp /Users/yizao/PycharmProjects/ENM/pnas_amber_clean/bdna+bdna/charmm_inp/get_minim_after_fluct.inp /Users/yizao/PycharmProjects/ENM/pnas_amber_16mer/bdna+bdna/charmm_inp\n",
      "cp /Users/yizao/PycharmProjects/ENM/pnas_amber_clean/bdna+bdna/charmm_inp/ic_avg.inp /Users/yizao/PycharmProjects/ENM/pnas_amber_16mer/bdna+bdna/charmm_inp\n",
      "cp /Users/yizao/PycharmProjects/ENM/pnas_amber_clean/bdna+bdna/charmm_inp/ic_fluct.inp /Users/yizao/PycharmProjects/ENM/pnas_amber_16mer/bdna+bdna/charmm_inp\n",
      "cp /Users/yizao/PycharmProjects/ENM/pnas_amber_clean/bdna+bdna/charmm_inp/make_enm_crd.inp /Users/yizao/PycharmProjects/ENM/pnas_amber_16mer/bdna+bdna/charmm_inp\n",
      "cp /Users/yizao/PycharmProjects/ENM/pnas_amber_clean/bdna+bdna/charmm_inp/make_enm_psf.inp /Users/yizao/PycharmProjects/ENM/pnas_amber_16mer/bdna+bdna/charmm_inp\n",
      "cp /Users/yizao/PycharmProjects/ENM/pnas_amber_clean/bdna+bdna/charmm_inp/nma.inp /Users/yizao/PycharmProjects/ENM/pnas_amber_16mer/bdna+bdna/charmm_inp\n",
      "cp /Users/yizao/PycharmProjects/ENM/pnas_amber_clean/bdna+bdna/charmm_inp/nmainit.inp /Users/yizao/PycharmProjects/ENM/pnas_amber_16mer/bdna+bdna/charmm_inp\n"
     ]
    }
   ],
   "source": [
    "old_dir = path.join(enm_rootfolder, 'pnas_amber_clean', type_na, 'charmm_inp', '*.inp')\n",
    "dest_dir = path.join(enm_rootfolder, host, type_na, 'charmm_inp')\n",
    "for filename in glob(old_dir):\n",
    "    copy(filename, dest_dir)\n",
    "    print(f'cp {filename} {dest_dir}')"
   ]
  },
  {
   "cell_type": "markdown",
   "metadata": {},
   "source": [
    "### Part 4: Make CRD"
   ]
  },
  {
   "cell_type": "code",
   "execution_count": 7,
   "metadata": {},
   "outputs": [
    {
     "name": "stdout",
     "output_type": "stream",
     "text": [
      "cd /Users/yizao/PycharmProjects/ENM\n",
      "vim /Users/yizao/PycharmProjects/ENM/pnas_amber_16mer/bdna+bdna/charmm_inp/make_enm_crd.inp\n",
      "charmm_yz < /Users/yizao/PycharmProjects/ENM/pnas_amber_16mer/bdna+bdna/charmm_inp/make_enm_crd.inp > /Users/yizao/PycharmProjects/ENM/pnas_amber_16mer/bdna+bdna/charmm_dat/make_enm_crd.dat\n"
     ]
    }
   ],
   "source": [
    "makecrd_inp = path.join(enm_rootfolder, host, type_na, 'charmm_inp', 'make_enm_crd.inp')\n",
    "makecrd_dat = path.join(enm_rootfolder, host, type_na, 'charmm_dat', 'make_enm_crd.dat')\n",
    "print(f'cd {enm_rootfolder}')\n",
    "print(f'vim {makecrd_inp}')\n",
    "print(f'charmm_yz < {makecrd_inp} > {makecrd_dat}')"
   ]
  },
  {
   "cell_type": "code",
   "execution_count": null,
   "metadata": {},
   "outputs": [],
   "source": []
  }
 ],
 "metadata": {
  "kernelspec": {
   "display_name": "Python 3",
   "language": "python",
   "name": "python3"
  },
  "language_info": {
   "codemirror_mode": {
    "name": "ipython",
    "version": 3
   },
   "file_extension": ".py",
   "mimetype": "text/x-python",
   "name": "python",
   "nbconvert_exporter": "python",
   "pygments_lexer": "ipython3",
   "version": "3.6.7"
  }
 },
 "nbformat": 4,
 "nbformat_minor": 4
}
