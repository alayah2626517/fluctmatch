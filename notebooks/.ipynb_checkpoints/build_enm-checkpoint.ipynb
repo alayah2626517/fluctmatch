{
 "cells": [
  {
   "cell_type": "code",
   "execution_count": 1,
   "metadata": {},
   "outputs": [],
   "source": [
    "from os import path\n",
    "from glob import glob\n",
    "from shutil import copy\n",
    "from fluctmatch import enm, rtf, ic_str"
   ]
  },
  {
   "cell_type": "markdown",
   "metadata": {},
   "source": [
    "### Part 0: Set root folder and cutoff"
   ]
  },
  {
   "cell_type": "code",
   "execution_count": 67,
   "metadata": {},
   "outputs": [],
   "source": [
    "enm_rootfolder = '/Users/alayah361/fluctmatch/enm/cg_21'\n",
    "allsystemfolder = '/Users/alayah361/fluctmatch/cg_21' ## 製作no-hydrogen+avg的資料夾\n",
    "cutoff = 4.7"
   ]
  },
  {
   "cell_type": "code",
   "execution_count": 79,
   "metadata": {},
   "outputs": [
    {
     "name": "stdout",
     "output_type": "stream",
     "text": [
      "mkdir /Users/alayah361/fluctmatch/enm/cg_21/21_allme\n",
      "mkdir /Users/alayah361/fluctmatch/enm/cg_21/21_allme/bdna+bdna\n",
      "mkdir /Users/alayah361/fluctmatch/enm/cg_21/21_allme/bdna+bdna/input\n",
      "mkdir /Users/alayah361/fluctmatch/enm/cg_21/21_allme/bdna+bdna/charmm_inp\n",
      "mkdir /Users/alayah361/fluctmatch/enm/cg_21/21_allme/bdna+bdna/charmm_dat\n",
      "mkdir /Users/alayah361/fluctmatch/enm/cg_21/21_allme/bdna+bdna/mode_traj\n",
      "mkdir /Users/alayah361/fluctmatch/enm/cg_21/21_allme/bdna+bdna/ic\n",
      "mkdir /Users/alayah361/fluctmatch/enm/cg_21/21_allme/bdna+bdna/ic_fluct_mat\n",
      "mkdir /Users/alayah361/fluctmatch/enm/cg_21/21_allme/bdna+bdna/rtf_ic_str\n",
      "mkdir /Users/alayah361/fluctmatch/enm/cg_21/21_allme/bdna+bdna/data\n",
      "mkdir /Users/alayah361/fluctmatch/enm/cg_21/21_allme/bdna+bdna/data/backup\n",
      "mkdir /Users/alayah361/fluctmatch/enm/cg_21/21_allme/bdna+bdna/scratch\n"
     ]
    }
   ],
   "source": [
    "host = '21_allme'\n",
    "type_na = 'bdna+bdna'\n",
    "agent = enm.ENMAgent(enm_rootfolder, host, type_na)"
   ]
  },
  {
   "cell_type": "markdown",
   "metadata": {},
   "source": [
    "### Part 1: Check xxx.nohydrogen.avg.crd"
   ]
  },
  {
   "cell_type": "code",
   "execution_count": 80,
   "metadata": {},
   "outputs": [
    {
     "name": "stdout",
     "output_type": "stream",
     "text": [
      "/Users/alayah361/fluctmatch/enm/cg_21/21_allme/bdna+bdna/input/bdna+bdna.nohydrogen.avg.crd does not exist.\n",
      "cp /Users/alayah361/fluctmatch/cg_21/21_allme/bdna+bdna/input/heavyatoms/bdna+bdna.nohydrogen.avg.crd /Users/alayah361/fluctmatch/enm/cg_21/21_allme/bdna+bdna/input/bdna+bdna.nohydrogen.avg.crd\n"
     ]
    }
   ],
   "source": [
    "avg_exist_boolean = agent.check_avg_crd()\n",
    "if not avg_exist_boolean:\n",
    "    agent.copy_avg_crd(allsystemfolder)"
   ]
  },
  {
   "cell_type": "markdown",
   "metadata": {},
   "source": [
    "### Part 2: Check mode.0.dcd (10000 frames heavy atoms model)"
   ]
  },
  {
   "cell_type": "code",
   "execution_count": 81,
   "metadata": {},
   "outputs": [
    {
     "name": "stdout",
     "output_type": "stream",
     "text": [
      "/Users/alayah361/fluctmatch/enm/cg_21/21_allme/bdna+bdna/mode_traj/mode.0.dcd does not exist.\n",
      "cp /Users/alayah361/fluctmatch/cg_21/21_allme/bdna+bdna/input/heavyatoms/bdna+bdna.nohydrogen.fitavg.dcd /Users/alayah361/fluctmatch/enm/cg_21/21_allme/bdna+bdna/mode_traj/mode.0.dcd\n"
     ]
    }
   ],
   "source": [
    "mode0dcd_exist_boolean = agent.check_mode0dcd()\n",
    "if not mode0dcd_exist_boolean:\n",
    "    agent.copy_mode0dcd(allsystemfolder)"
   ]
  },
  {
   "cell_type": "markdown",
   "metadata": {},
   "source": [
    "### Part 3: Set required dictionary"
   ]
  },
  {
   "cell_type": "code",
   "execution_count": 82,
   "metadata": {},
   "outputs": [],
   "source": [
    "agent.set_mda_universe()\n",
    "agent.set_required_d()"
   ]
  },
  {
   "cell_type": "markdown",
   "metadata": {},
   "source": [
    "### Part 4: Get All Pairs"
   ]
  },
  {
   "cell_type": "code",
   "execution_count": 83,
   "metadata": {},
   "outputs": [
    {
     "name": "stdout",
     "output_type": "stream",
     "text": [
      "Number of Beads: 874\n",
      "Number of Pairs: 9530\n"
     ]
    }
   ],
   "source": [
    "pairs = agent.get_all_pairs(cutoff)\n",
    "n_atoms = len(agent.atomid_map)\n",
    "n_pairs = len(pairs)\n",
    "print(f'Number of Beads: {n_atoms}')\n",
    "print(f'Number of Pairs: {n_pairs}')"
   ]
  },
  {
   "cell_type": "markdown",
   "metadata": {},
   "source": [
    "### Part 5: Make RTF"
   ]
  },
  {
   "cell_type": "code",
   "execution_count": 84,
   "metadata": {},
   "outputs": [
    {
     "name": "stdout",
     "output_type": "stream",
     "text": [
      "Generate /Users/alayah361/fluctmatch/enm/cg_21/21_allme/bdna+bdna/rtf_ic_str/na_enm_4.70.rtf\n"
     ]
    }
   ],
   "source": [
    "rtf_agent = rtf.RTF(host, type_na, agent.crd, pairs, agent.mass_map)\n",
    "f_out = path.join(enm_rootfolder, host, type_na, 'rtf_ic_str', f'na_enm_{cutoff:.2f}.rtf')\n",
    "rtf_agent.write_rtf(f_out)\n",
    "print(f'Generate {f_out}')"
   ]
  },
  {
   "cell_type": "markdown",
   "metadata": {},
   "source": [
    "### Part 6: Make IC-Stream "
   ]
  },
  {
   "cell_type": "code",
   "execution_count": 85,
   "metadata": {},
   "outputs": [
    {
     "name": "stdout",
     "output_type": "stream",
     "text": [
      "Generate /Users/alayah361/fluctmatch/enm/cg_21/21_allme/bdna+bdna/rtf_ic_str/na_enm_4.70.str\n"
     ]
    }
   ],
   "source": [
    "f_out = path.join(enm_rootfolder, host, type_na, 'rtf_ic_str', f'na_enm_{cutoff:.2f}.str')\n",
    "icstr_agent = ic_str.ICSTR(host, type_na, agent.crd, pairs, agent.atomid_map)\n",
    "icstr_agent.write_ic_str(f_out)\n",
    "print(f'Generate {f_out}')"
   ]
  },
  {
   "cell_type": "markdown",
   "metadata": {},
   "source": [
    "### Part 7: Make CRD"
   ]
  },
  {
   "cell_type": "code",
   "execution_count": 86,
   "metadata": {},
   "outputs": [
    {
     "name": "stdout",
     "output_type": "stream",
     "text": [
      "charmm< /Users/alayah361/fluctmatch/enm/cg_21/21_allme/bdna+bdna/charmm_inp/make_enm_crd.inp > /Users/alayah361/fluctmatch/enm/cg_21/21_allme/bdna+bdna/charmm_dat/make_enm_crd.dat\n"
     ]
    }
   ],
   "source": [
    "agent.write_make_enm_crd_input(firstter='amber_5ter', lastter='amber_3ter')\n",
    "agent.make_enm_crd()"
   ]
  },
  {
   "cell_type": "code",
   "execution_count": 87,
   "metadata": {},
   "outputs": [
    {
     "name": "stdout",
     "output_type": "stream",
     "text": [
      "vmd -cor /Users/alayah361/fluctmatch/enm/cg_21/21_allme/bdna+bdna/input/bdna+bdna.nohydrogen.avg.crd\n",
      "mol new /Users/alayah361/fluctmatch/enm/cg_21/21_allme/bdna+bdna/input/na_enm.crd type cor\n"
     ]
    }
   ],
   "source": [
    "agent.check_enm_crd()"
   ]
  },
  {
   "cell_type": "code",
   "execution_count": null,
   "metadata": {},
   "outputs": [],
   "source": []
  },
  {
   "cell_type": "code",
   "execution_count": null,
   "metadata": {},
   "outputs": [],
   "source": []
  }
 ],
 "metadata": {
  "kernelspec": {
   "display_name": "Python 3",
   "language": "python",
   "name": "python3"
  },
  "language_info": {
   "codemirror_mode": {
    "name": "ipython",
    "version": 3
   },
   "file_extension": ".py",
   "mimetype": "text/x-python",
   "name": "python",
   "nbconvert_exporter": "python",
   "pygments_lexer": "ipython3",
   "version": "3.8.6"
  }
 },
 "nbformat": 4,
 "nbformat_minor": 4
}
