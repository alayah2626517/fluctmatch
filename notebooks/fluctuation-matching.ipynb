{
 "cells": [
  {
   "cell_type": "code",
   "execution_count": 2,
   "metadata": {},
   "outputs": [],
   "source": [
    "from fluctmatch import fluctmatch_interface"
   ]
  },
  {
   "cell_type": "code",
   "execution_count": 3,
   "metadata": {},
   "outputs": [],
   "source": [
    "hosts = ['nome', 'me1', 'me2', 'me3', 'me12', 'me23', 'me123', '21_nome', '21_allme']"
   ]
  },
  {
   "cell_type": "code",
   "execution_count": 7,
   "metadata": {},
   "outputs": [],
   "source": [
    "charmm = '/Users/alayah361/Documents/Research/charmm/bin/charmm'\n",
    "rootfolder = '/Users/alayah361/fluctmatch/enm/cg_13'\n",
    "type_na = 'bdna+bdna'\n",
    "cutoff = 4.7\n",
    "start = 0\n",
    "end = 250"
   ]
  },
  {
   "cell_type": "code",
   "execution_count": 5,
   "metadata": {},
   "outputs": [
    {
     "data": {
      "text/plain": [
       "'\\nfor host in hosts:\\n    fluctmatch_interface.main(rootfolder, host, type_na, cutoff, start, end, charmm)\\n'"
      ]
     },
     "execution_count": 5,
     "metadata": {},
     "output_type": "execute_result"
    }
   ],
   "source": [
    "\"\"\"\n",
    "for host in hosts:\n",
    "    fluctmatch_interface.main(rootfolder, host, type_na, cutoff, start, end, charmm)\n",
    "\"\"\""
   ]
  },
  {
   "cell_type": "code",
   "execution_count": 8,
   "metadata": {},
   "outputs": [
    {
     "name": "stdout",
     "output_type": "stream",
     "text": [
      "/Users/alayah361/fluctmatch/enm/cg_13/nome exists\n",
      "/Users/alayah361/fluctmatch/enm/cg_13/nome/bdna+bdna exists\n",
      "/Users/alayah361/fluctmatch/enm/cg_13/nome/bdna+bdna/input exists\n",
      "/Users/alayah361/fluctmatch/enm/cg_13/nome/bdna+bdna/charmm_inp exists\n",
      "/Users/alayah361/fluctmatch/enm/cg_13/nome/bdna+bdna/charmm_dat exists\n",
      "/Users/alayah361/fluctmatch/enm/cg_13/nome/bdna+bdna/mode_traj exists\n",
      "/Users/alayah361/fluctmatch/enm/cg_13/nome/bdna+bdna/ic exists\n",
      "/Users/alayah361/fluctmatch/enm/cg_13/nome/bdna+bdna/ic_fluct_mat exists\n",
      "/Users/alayah361/fluctmatch/enm/cg_13/nome/bdna+bdna/rtf_ic_str exists\n",
      "/Users/alayah361/fluctmatch/enm/cg_13/nome/bdna+bdna/data exists\n",
      "/Users/alayah361/fluctmatch/enm/cg_13/nome/bdna+bdna/data/backup exists\n",
      "/Users/alayah361/fluctmatch/enm/cg_13/nome/bdna+bdna/scratch exists\n",
      "charmm< /Users/alayah361/fluctmatch/enm/cg_13/nome/bdna+bdna/charmm_inp/ic_fluct_4.70.inp > /Users/alayah361/fluctmatch/enm/cg_13/nome/bdna+bdna/charmm_dat/ic_fluct_4.70.dat\n",
      "charmm< /Users/alayah361/fluctmatch/enm/cg_13/nome/bdna+bdna/charmm_inp/ic_avg_4.70.inp > /Users/alayah361/fluctmatch/enm/cg_13/nome/bdna+bdna/charmm_dat/ic_avg_4.70.dat\n",
      "charmm< /Users/alayah361/fluctmatch/enm/cg_13/nome/bdna+bdna/scratch/nmainit.inp > /Users/alayah361/fluctmatch/enm/cg_13/nome/bdna+bdna/scratch/nmainit.dat\n"
     ]
    },
    {
     "ename": "CalledProcessError",
     "evalue": "Command '/Users/alayah361/Documents/Research/charmm/bin/charmm' returned non-zero exit status 1.",
     "output_type": "error",
     "traceback": [
      "\u001b[0;31m---------------------------------------------------------------------------\u001b[0m",
      "\u001b[0;31mCalledProcessError\u001b[0m                        Traceback (most recent call last)",
      "\u001b[0;32m<ipython-input-8-b708f191b804>\u001b[0m in \u001b[0;36m<module>\u001b[0;34m\u001b[0m\n\u001b[1;32m      1\u001b[0m \u001b[0;32mfor\u001b[0m \u001b[0mhost\u001b[0m \u001b[0;32min\u001b[0m \u001b[0mhosts\u001b[0m\u001b[0;34m:\u001b[0m\u001b[0;34m\u001b[0m\u001b[0;34m\u001b[0m\u001b[0m\n\u001b[0;32m----> 2\u001b[0;31m     \u001b[0mfluctmatch_interface\u001b[0m\u001b[0;34m.\u001b[0m\u001b[0mmain\u001b[0m\u001b[0;34m(\u001b[0m\u001b[0mrootfolder\u001b[0m\u001b[0;34m,\u001b[0m \u001b[0mhost\u001b[0m\u001b[0;34m,\u001b[0m \u001b[0mtype_na\u001b[0m\u001b[0;34m,\u001b[0m \u001b[0mcutoff\u001b[0m\u001b[0;34m,\u001b[0m \u001b[0mstart\u001b[0m\u001b[0;34m,\u001b[0m \u001b[0mend\u001b[0m\u001b[0;34m,\u001b[0m \u001b[0mcharmm\u001b[0m\u001b[0;34m)\u001b[0m\u001b[0;34m\u001b[0m\u001b[0;34m\u001b[0m\u001b[0m\n\u001b[0m",
      "\u001b[0;32m~/codes/fluctmatch/fluctmatch/fluctmatch_interface.py\u001b[0m in \u001b[0;36mmain\u001b[0;34m(rootfolder, host, type_na, cutoff, start, end, charmm)\u001b[0m\n\u001b[1;32m    178\u001b[0m     \u001b[0mnma_init_dat\u001b[0m \u001b[0;34m=\u001b[0m \u001b[0mpath\u001b[0m\u001b[0;34m.\u001b[0m\u001b[0mjoin\u001b[0m\u001b[0;34m(\u001b[0m\u001b[0mscratchfolder\u001b[0m\u001b[0;34m,\u001b[0m \u001b[0;34m'nmainit.dat'\u001b[0m\u001b[0;34m)\u001b[0m\u001b[0;34m\u001b[0m\u001b[0;34m\u001b[0m\u001b[0m\n\u001b[1;32m    179\u001b[0m     \u001b[0mwrite_nmainit_inp\u001b[0m\u001b[0;34m(\u001b[0m\u001b[0mnma_init_inp\u001b[0m\u001b[0;34m,\u001b[0m \u001b[0mhost\u001b[0m\u001b[0;34m,\u001b[0m \u001b[0mtype_na\u001b[0m\u001b[0;34m,\u001b[0m \u001b[0mcutoff\u001b[0m\u001b[0;34m,\u001b[0m \u001b[0mrootfolder\u001b[0m\u001b[0;34m,\u001b[0m \u001b[0mscratchfolder\u001b[0m\u001b[0;34m)\u001b[0m\u001b[0;34m\u001b[0m\u001b[0;34m\u001b[0m\u001b[0m\n\u001b[0;32m--> 180\u001b[0;31m     \u001b[0mexec_charmm\u001b[0m\u001b[0;34m(\u001b[0m\u001b[0mcharmm\u001b[0m\u001b[0;34m,\u001b[0m \u001b[0mnma_init_inp\u001b[0m\u001b[0;34m,\u001b[0m \u001b[0mnma_init_dat\u001b[0m\u001b[0;34m)\u001b[0m\u001b[0;34m\u001b[0m\u001b[0;34m\u001b[0m\u001b[0m\n\u001b[0m\u001b[1;32m    181\u001b[0m \u001b[0;34m\u001b[0m\u001b[0m\n\u001b[1;32m    182\u001b[0m     \u001b[0;31m# Fluctuation-Matching\u001b[0m\u001b[0;34m\u001b[0m\u001b[0;34m\u001b[0m\u001b[0;34m\u001b[0m\u001b[0m\n",
      "\u001b[0;32m~/codes/fluctmatch/fluctmatch/fluctmatch_interface.py\u001b[0m in \u001b[0;36mexec_charmm\u001b[0;34m(charmm, f_input, f_output)\u001b[0m\n\u001b[1;32m     19\u001b[0m \u001b[0;32mdef\u001b[0m \u001b[0mexec_charmm\u001b[0m\u001b[0;34m(\u001b[0m\u001b[0mcharmm\u001b[0m\u001b[0;34m,\u001b[0m \u001b[0mf_input\u001b[0m\u001b[0;34m,\u001b[0m \u001b[0mf_output\u001b[0m\u001b[0;34m)\u001b[0m\u001b[0;34m:\u001b[0m\u001b[0;34m\u001b[0m\u001b[0;34m\u001b[0m\u001b[0m\n\u001b[1;32m     20\u001b[0m     \u001b[0mprint\u001b[0m\u001b[0;34m(\u001b[0m\u001b[0;34m\"charmm< {0} > {1}\"\u001b[0m\u001b[0;34m.\u001b[0m\u001b[0mformat\u001b[0m\u001b[0;34m(\u001b[0m\u001b[0mf_input\u001b[0m\u001b[0;34m,\u001b[0m \u001b[0mf_output\u001b[0m\u001b[0;34m)\u001b[0m\u001b[0;34m)\u001b[0m\u001b[0;34m\u001b[0m\u001b[0;34m\u001b[0m\u001b[0m\n\u001b[0;32m---> 21\u001b[0;31m     \u001b[0mcheck_call\u001b[0m\u001b[0;34m(\u001b[0m\u001b[0mcharmm\u001b[0m\u001b[0;34m,\u001b[0m \u001b[0mstdin\u001b[0m\u001b[0;34m=\u001b[0m\u001b[0mopen\u001b[0m\u001b[0;34m(\u001b[0m\u001b[0mf_input\u001b[0m\u001b[0;34m,\u001b[0m \u001b[0;34m'r'\u001b[0m\u001b[0;34m)\u001b[0m\u001b[0;34m,\u001b[0m \u001b[0mstdout\u001b[0m\u001b[0;34m=\u001b[0m\u001b[0mopen\u001b[0m\u001b[0;34m(\u001b[0m\u001b[0mf_output\u001b[0m\u001b[0;34m,\u001b[0m \u001b[0;34m'w+'\u001b[0m\u001b[0;34m)\u001b[0m\u001b[0;34m,\u001b[0m \u001b[0mshell\u001b[0m\u001b[0;34m=\u001b[0m\u001b[0;32mTrue\u001b[0m\u001b[0;34m)\u001b[0m\u001b[0;34m\u001b[0m\u001b[0;34m\u001b[0m\u001b[0m\n\u001b[0m\u001b[1;32m     22\u001b[0m \u001b[0;34m\u001b[0m\u001b[0m\n\u001b[1;32m     23\u001b[0m \u001b[0;34m\u001b[0m\u001b[0m\n",
      "\u001b[0;32m~/opt/anaconda3/envs/fluctmatch/lib/python3.8/subprocess.py\u001b[0m in \u001b[0;36mcheck_call\u001b[0;34m(*popenargs, **kwargs)\u001b[0m\n\u001b[1;32m    362\u001b[0m         \u001b[0;32mif\u001b[0m \u001b[0mcmd\u001b[0m \u001b[0;32mis\u001b[0m \u001b[0;32mNone\u001b[0m\u001b[0;34m:\u001b[0m\u001b[0;34m\u001b[0m\u001b[0;34m\u001b[0m\u001b[0m\n\u001b[1;32m    363\u001b[0m             \u001b[0mcmd\u001b[0m \u001b[0;34m=\u001b[0m \u001b[0mpopenargs\u001b[0m\u001b[0;34m[\u001b[0m\u001b[0;36m0\u001b[0m\u001b[0;34m]\u001b[0m\u001b[0;34m\u001b[0m\u001b[0;34m\u001b[0m\u001b[0m\n\u001b[0;32m--> 364\u001b[0;31m         \u001b[0;32mraise\u001b[0m \u001b[0mCalledProcessError\u001b[0m\u001b[0;34m(\u001b[0m\u001b[0mretcode\u001b[0m\u001b[0;34m,\u001b[0m \u001b[0mcmd\u001b[0m\u001b[0;34m)\u001b[0m\u001b[0;34m\u001b[0m\u001b[0;34m\u001b[0m\u001b[0m\n\u001b[0m\u001b[1;32m    365\u001b[0m     \u001b[0;32mreturn\u001b[0m \u001b[0;36m0\u001b[0m\u001b[0;34m\u001b[0m\u001b[0;34m\u001b[0m\u001b[0m\n\u001b[1;32m    366\u001b[0m \u001b[0;34m\u001b[0m\u001b[0m\n",
      "\u001b[0;31mCalledProcessError\u001b[0m: Command '/Users/alayah361/Documents/Research/charmm/bin/charmm' returned non-zero exit status 1."
     ]
    }
   ],
   "source": [
    "for host in hosts:\n",
    "    fluctmatch_interface.main(rootfolder, host, type_na, cutoff, start, end, charmm)"
   ]
  }
 ],
 "metadata": {
  "kernelspec": {
   "display_name": "Python 3",
   "language": "python",
   "name": "python3"
  },
  "language_info": {
   "codemirror_mode": {
    "name": "ipython",
    "version": 3
   },
   "file_extension": ".py",
   "mimetype": "text/x-python",
   "name": "python",
   "nbconvert_exporter": "python",
   "pygments_lexer": "ipython3",
   "version": "3.8.6"
  }
 },
 "nbformat": 4,
 "nbformat_minor": 4
}
